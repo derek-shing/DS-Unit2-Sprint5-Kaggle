{
  "nbformat": 4,
  "nbformat_minor": 0,
  "metadata": {
    "colab": {
      "name": "Project2.ipynb",
      "version": "0.3.2",
      "provenance": [],
      "collapsed_sections": [
        "VMTF11lxyOCC",
        "0tnm5PGjvVJz"
      ],
      "toc_visible": true,
      "include_colab_link": true
    },
    "kernelspec": {
      "name": "python3",
      "display_name": "Python 3"
    }
  },
  "cells": [
    {
      "cell_type": "markdown",
      "metadata": {
        "id": "view-in-github",
        "colab_type": "text"
      },
      "source": [
        "<a href=\"https://colab.research.google.com/github/derek-shing/DS-Unit2-Sprint5-Kaggle/blob/master/Project2.ipynb\" target=\"_parent\"><img src=\"https://colab.research.google.com/assets/colab-badge.svg\" alt=\"Open In Colab\"/></a>"
      ]
    },
    {
      "metadata": {
        "id": "DvmbR0Y7ezGk",
        "colab_type": "text"
      },
      "cell_type": "markdown",
      "source": [
        "#Loading Data"
      ]
    },
    {
      "metadata": {
        "id": "8e8p5Ftsek0V",
        "colab_type": "code",
        "colab": {}
      },
      "cell_type": "code",
      "source": [
        "import pandas as pd\n",
        "import numpy as np\n",
        "from google.colab import drive\n",
        "from sklearn.model_selection import train_test_split\n",
        "from sklearn.metrics import accuracy_score\n",
        "from sklearn.preprocessing import StandardScaler\n",
        "from sklearn.pipeline import make_pipeline\n",
        "from sklearn.linear_model import LogisticRegression\n",
        "from sklearn.neighbors import KNeighborsClassifier\n",
        "#from sklearn.preprocessing import OneHotEncoder\n",
        "from sklearn.ensemble import RandomForestClassifier\n",
        "import category_encoders as ce"
      ],
      "execution_count": 0,
      "outputs": []
    },
    {
      "metadata": {
        "id": "8uCL8_W_PMct",
        "colab_type": "code",
        "colab": {
          "base_uri": "https://localhost:8080/",
          "height": 275
        },
        "outputId": "e4fe2804-74ce-4de9-99f6-3fc66c4d5df0"
      },
      "cell_type": "code",
      "source": [
        "!pip install category_encoders"
      ],
      "execution_count": 1,
      "outputs": [
        {
          "output_type": "stream",
          "text": [
            "Collecting category_encoders\n",
            "\u001b[?25l  Downloading https://files.pythonhosted.org/packages/f7/d3/82a4b85a87ece114f6d0139d643580c726efa45fa4db3b81aed38c0156c5/category_encoders-1.3.0-py2.py3-none-any.whl (61kB)\n",
            "\u001b[K    100% |████████████████████████████████| 61kB 3.8MB/s \n",
            "\u001b[?25hRequirement already satisfied: statsmodels>=0.6.1 in /usr/local/lib/python3.6/dist-packages (from category_encoders) (0.8.0)\n",
            "Requirement already satisfied: scipy>=0.17.0 in /usr/local/lib/python3.6/dist-packages (from category_encoders) (1.1.0)\n",
            "Requirement already satisfied: patsy>=0.4.1 in /usr/local/lib/python3.6/dist-packages (from category_encoders) (0.5.1)\n",
            "Requirement already satisfied: pandas>=0.20.1 in /usr/local/lib/python3.6/dist-packages (from category_encoders) (0.22.0)\n",
            "Requirement already satisfied: numpy>=1.11.1 in /usr/local/lib/python3.6/dist-packages (from category_encoders) (1.14.6)\n",
            "Requirement already satisfied: scikit-learn>=0.17.1 in /usr/local/lib/python3.6/dist-packages (from category_encoders) (0.20.3)\n",
            "Requirement already satisfied: six in /usr/local/lib/python3.6/dist-packages (from patsy>=0.4.1->category_encoders) (1.11.0)\n",
            "Requirement already satisfied: python-dateutil>=2 in /usr/local/lib/python3.6/dist-packages (from pandas>=0.20.1->category_encoders) (2.5.3)\n",
            "Requirement already satisfied: pytz>=2011k in /usr/local/lib/python3.6/dist-packages (from pandas>=0.20.1->category_encoders) (2018.9)\n",
            "Installing collected packages: category-encoders\n",
            "Successfully installed category-encoders-1.3.0\n"
          ],
          "name": "stdout"
        }
      ]
    },
    {
      "metadata": {
        "id": "5xwIHf7lfgCe",
        "colab_type": "code",
        "outputId": "5d57e895-8a72-4af6-8a78-8230f7638368",
        "colab": {
          "base_uri": "https://localhost:8080/",
          "height": 34
        }
      },
      "cell_type": "code",
      "source": [
        "drive.mount('/content/gdrive', force_remount=True)"
      ],
      "execution_count": 165,
      "outputs": [
        {
          "output_type": "stream",
          "text": [
            "Mounted at /content/gdrive\n"
          ],
          "name": "stdout"
        }
      ]
    },
    {
      "metadata": {
        "id": "xsNfKMMKftIc",
        "colab_type": "code",
        "colab": {}
      },
      "cell_type": "code",
      "source": [
        "train_features = pd.read_csv('/content/gdrive/My Drive/train_features.csv')\n",
        "train_labels = pd.read_csv('/content/gdrive/My Drive/train_labels.csv')\n",
        "test_features = pd.read_csv('/content/gdrive/My Drive/test_features.csv')\n",
        "submission = pd.read_csv('/content/gdrive/My Drive/sample_submission.csv')\n",
        "\n",
        "\n",
        "construction_year_median = train_features[train_features['construction_year']!=0]['construction_year'].median()\n",
        "\n",
        "install_less_than_300 =  train_features['installer'].value_counts()[train_features['installer'].value_counts()<300].index\n",
        "install_less_than_300= list(install_less_than_300)\n",
        "funder_less_than_100 =  train_features['funder'].value_counts()[train_features['funder'].value_counts()<100].index\n",
        "funder_less_than_100= list(funder_less_than_100)\n",
        "\n",
        "population_median = train_features[train_features['population']!=0].groupby('region_code').agg('median')\n",
        "population_median = population_median.reset_index()\n",
        "population_median = population_median[['region_code','population']]\n",
        "population_median = population_median.rename(columns={'population':'population_median'})\n",
        "\n",
        "total_population_median = train_features[train_features['population']!=0]['population'].median()\n"
      ],
      "execution_count": 0,
      "outputs": []
    },
    {
      "metadata": {
        "id": "kX330wPaiWk6",
        "colab_type": "code",
        "outputId": "2730f832-0de0-4f9c-df48-4794cfca0e7e",
        "colab": {
          "base_uri": "https://localhost:8080/",
          "height": 34
        }
      },
      "cell_type": "code",
      "source": [
        "train_features.shape, train_labels.shape, test_features.shape"
      ],
      "execution_count": 278,
      "outputs": [
        {
          "output_type": "execute_result",
          "data": {
            "text/plain": [
              "((59400, 40), (59400, 2), (14358, 40))"
            ]
          },
          "metadata": {
            "tags": []
          },
          "execution_count": 278
        }
      ]
    },
    {
      "metadata": {
        "id": "OwcBbQjyjtPC",
        "colab_type": "code",
        "colab": {}
      },
      "cell_type": "code",
      "source": [
        "pd.options.display.max_columns=999\n",
        "pd.options.display.max_rows=999"
      ],
      "execution_count": 0,
      "outputs": []
    },
    {
      "metadata": {
        "id": "Vjs38owwlAWN",
        "colab_type": "code",
        "colab": {}
      },
      "cell_type": "code",
      "source": [
        "y_train = train_labels['status_group']\n",
        "X_train = train_features.drop(columns='id')\n",
        "X_test  = test_features.drop(columns='id')"
      ],
      "execution_count": 0,
      "outputs": []
    },
    {
      "metadata": {
        "id": "YnasR04UlrJz",
        "colab_type": "code",
        "outputId": "9bcda63c-32a0-4595-c40a-c73646d36ecc",
        "colab": {
          "base_uri": "https://localhost:8080/",
          "height": 34
        }
      },
      "cell_type": "code",
      "source": [
        "from sklearn.model_selection import train_test_split\n",
        "X_train, X_val, y_train, y_val = train_test_split(X_train, y_train)\n",
        "X_train.shape, X_val.shape, y_train.shape, y_val.shape"
      ],
      "execution_count": 281,
      "outputs": [
        {
          "output_type": "execute_result",
          "data": {
            "text/plain": [
              "((44550, 39), (14850, 39), (44550,), (14850,))"
            ]
          },
          "metadata": {
            "tags": []
          },
          "execution_count": 281
        }
      ]
    },
    {
      "metadata": {
        "id": "q2xmU7Jwl0U5",
        "colab_type": "code",
        "colab": {
          "base_uri": "https://localhost:8080/",
          "height": 85
        },
        "outputId": "4213399e-e748-4d20-efd9-38429bb6e80c"
      },
      "cell_type": "code",
      "source": [
        "y_train.value_counts(normalize=True)"
      ],
      "execution_count": 210,
      "outputs": [
        {
          "output_type": "execute_result",
          "data": {
            "text/plain": [
              "functional                 0.544691\n",
              "non functional             0.382514\n",
              "functional needs repair    0.072795\n",
              "Name: status_group, dtype: float64"
            ]
          },
          "metadata": {
            "tags": []
          },
          "execution_count": 210
        }
      ]
    },
    {
      "metadata": {
        "id": "soWQ-y3NwMXv",
        "colab_type": "code",
        "colab": {}
      },
      "cell_type": "code",
      "source": [
        "X_train.isnull().sum()"
      ],
      "execution_count": 0,
      "outputs": []
    },
    {
      "metadata": {
        "id": "VMTF11lxyOCC",
        "colab_type": "text"
      },
      "cell_type": "markdown",
      "source": [
        "# Study Relation (Can skip)"
      ]
    },
    {
      "metadata": {
        "id": "BVfEsumgyfEE",
        "colab_type": "code",
        "colab": {}
      },
      "cell_type": "code",
      "source": [
        "X_y =X_train.copy()"
      ],
      "execution_count": 0,
      "outputs": []
    },
    {
      "metadata": {
        "id": "aLqRULr90kll",
        "colab_type": "code",
        "colab": {}
      },
      "cell_type": "code",
      "source": [
        "X_y['y']=y_train"
      ],
      "execution_count": 0,
      "outputs": []
    },
    {
      "metadata": {
        "id": "bo0ZjKQk0oAY",
        "colab_type": "code",
        "outputId": "db082d3e-2d73-4860-b7f2-28b4f66c6c1a",
        "colab": {
          "base_uri": "https://localhost:8080/",
          "height": 187
        }
      },
      "cell_type": "code",
      "source": [
        "X_y.columns"
      ],
      "execution_count": 11,
      "outputs": [
        {
          "output_type": "execute_result",
          "data": {
            "text/plain": [
              "Index(['amount_tsh', 'date_recorded', 'funder', 'gps_height', 'installer',\n",
              "       'longitude', 'latitude', 'wpt_name', 'num_private', 'basin',\n",
              "       'subvillage', 'region', 'region_code', 'district_code', 'lga', 'ward',\n",
              "       'population', 'public_meeting', 'recorded_by', 'scheme_management',\n",
              "       'scheme_name', 'permit', 'construction_year', 'extraction_type',\n",
              "       'extraction_type_group', 'extraction_type_class', 'management',\n",
              "       'management_group', 'payment', 'payment_type', 'water_quality',\n",
              "       'quality_group', 'quantity', 'quantity_group', 'source', 'source_type',\n",
              "       'source_class', 'waterpoint_type', 'waterpoint_type_group', 'y'],\n",
              "      dtype='object')"
            ]
          },
          "metadata": {
            "tags": []
          },
          "execution_count": 11
        }
      ]
    },
    {
      "metadata": {
        "id": "JryVl6SC0zQR",
        "colab_type": "code",
        "colab": {}
      },
      "cell_type": "code",
      "source": [
        "pd.pivot_table(X_y,index=[\"permit\"],values=[\"y\"],aggfunc=[np.sum])"
      ],
      "execution_count": 0,
      "outputs": []
    },
    {
      "metadata": {
        "id": "XDEAwiuU2t6R",
        "colab_type": "code",
        "colab": {}
      },
      "cell_type": "code",
      "source": [
        "X_y.public_meeting.isnull().sum()"
      ],
      "execution_count": 0,
      "outputs": []
    },
    {
      "metadata": {
        "id": "nLNBjOYBDNLj",
        "colab_type": "code",
        "colab": {}
      },
      "cell_type": "code",
      "source": [
        "X_y.funder.value_counts()"
      ],
      "execution_count": 0,
      "outputs": []
    },
    {
      "metadata": {
        "id": "FolnUKzDYiLx",
        "colab_type": "code",
        "colab": {}
      },
      "cell_type": "code",
      "source": [
        "X_train_numeric.water_quality.value_counts()"
      ],
      "execution_count": 0,
      "outputs": []
    },
    {
      "metadata": {
        "id": "K2Voqc5x8oQx",
        "colab_type": "code",
        "colab": {}
      },
      "cell_type": "code",
      "source": [
        "train_features['year']=train_features.date_recorded.str.split('-')"
      ],
      "execution_count": 0,
      "outputs": []
    },
    {
      "metadata": {
        "id": "frQHbch9Dpny",
        "colab_type": "code",
        "colab": {}
      },
      "cell_type": "code",
      "source": [
        "train_features['year']=train_features['year'].map(lambda x: x[0])"
      ],
      "execution_count": 0,
      "outputs": []
    },
    {
      "metadata": {
        "id": "cuQri90KOIsy",
        "colab_type": "code",
        "colab": {}
      },
      "cell_type": "code",
      "source": [
        "X_train.population.value_counts()"
      ],
      "execution_count": 0,
      "outputs": []
    },
    {
      "metadata": {
        "id": "hlaQtqKy7nPO",
        "colab_type": "code",
        "colab": {}
      },
      "cell_type": "code",
      "source": [
        "population_median = train_features[train_features['population']!=0].groupby('region_code').agg('median')\n",
        "population_median = population_median.reset_index()\n",
        "population_median = population_median[['region_code','population']]\n",
        "population_median = population_median.rename(columns={'population':'population_median'})"
      ],
      "execution_count": 0,
      "outputs": []
    },
    {
      "metadata": {
        "id": "QRKPxd4IAK6o",
        "colab_type": "code",
        "colab": {}
      },
      "cell_type": "code",
      "source": [
        "population_median"
      ],
      "execution_count": 0,
      "outputs": []
    },
    {
      "metadata": {
        "id": "ECCUoBz3AfpQ",
        "colab_type": "code",
        "colab": {}
      },
      "cell_type": "code",
      "source": [
        "df = pd.merge(X_train, population_median)\n",
        "df['population'].value_counts()\n",
        "condition=(df['population']==0)\n",
        "p_median = df[condition]['population_median']\n",
        "df.loc[condition,'population']=p_median"
      ],
      "execution_count": 0,
      "outputs": []
    },
    {
      "metadata": {
        "id": "TufzYox7D6vP",
        "colab_type": "code",
        "colab": {}
      },
      "cell_type": "code",
      "source": [
        "df.head().T"
      ],
      "execution_count": 0,
      "outputs": []
    },
    {
      "metadata": {
        "id": "uNVefixfBKMo",
        "colab_type": "code",
        "colab": {}
      },
      "cell_type": "code",
      "source": [
        ""
      ],
      "execution_count": 0,
      "outputs": []
    },
    {
      "metadata": {
        "id": "__YqAxxcCV8d",
        "colab_type": "code",
        "colab": {}
      },
      "cell_type": "code",
      "source": [
        "df['population'].value_counts()"
      ],
      "execution_count": 0,
      "outputs": []
    },
    {
      "metadata": {
        "id": "h8XqXjFdvmzN",
        "colab_type": "code",
        "colab": {}
      },
      "cell_type": "code",
      "source": [
        "X_train_numeric[X_train_numeric['region_code']==1]"
      ],
      "execution_count": 0,
      "outputs": []
    },
    {
      "metadata": {
        "id": "v6mvZgam1OQ8",
        "colab_type": "code",
        "colab": {}
      },
      "cell_type": "code",
      "source": [
        "X_train[X_train['construction_year']==0].region_code.value_counts()"
      ],
      "execution_count": 0,
      "outputs": []
    },
    {
      "metadata": {
        "id": "9aLkwJbnqE49",
        "colab_type": "code",
        "colab": {
          "base_uri": "https://localhost:8080/",
          "height": 317
        },
        "outputId": "f4547413-b832-4979-cb54-332b8ae2b849"
      },
      "cell_type": "code",
      "source": [
        "X_train[(X_train['region_code']==17) & (X_train['construction_year']!=0)].describe()"
      ],
      "execution_count": 52,
      "outputs": [
        {
          "output_type": "execute_result",
          "data": {
            "text/html": [
              "<div>\n",
              "<style scoped>\n",
              "    .dataframe tbody tr th:only-of-type {\n",
              "        vertical-align: middle;\n",
              "    }\n",
              "\n",
              "    .dataframe tbody tr th {\n",
              "        vertical-align: top;\n",
              "    }\n",
              "\n",
              "    .dataframe thead th {\n",
              "        text-align: right;\n",
              "    }\n",
              "</style>\n",
              "<table border=\"1\" class=\"dataframe\">\n",
              "  <thead>\n",
              "    <tr style=\"text-align: right;\">\n",
              "      <th></th>\n",
              "      <th>amount_tsh</th>\n",
              "      <th>gps_height</th>\n",
              "      <th>longitude</th>\n",
              "      <th>latitude</th>\n",
              "      <th>num_private</th>\n",
              "      <th>region_code</th>\n",
              "      <th>district_code</th>\n",
              "      <th>population</th>\n",
              "      <th>construction_year</th>\n",
              "    </tr>\n",
              "  </thead>\n",
              "  <tbody>\n",
              "    <tr>\n",
              "      <th>count</th>\n",
              "      <td>127.000000</td>\n",
              "      <td>127.000000</td>\n",
              "      <td>127.000000</td>\n",
              "      <td>127.000000</td>\n",
              "      <td>127.0</td>\n",
              "      <td>127.0</td>\n",
              "      <td>127.0</td>\n",
              "      <td>127.000000</td>\n",
              "      <td>127.000000</td>\n",
              "    </tr>\n",
              "    <tr>\n",
              "      <th>mean</th>\n",
              "      <td>432.283465</td>\n",
              "      <td>1350.874016</td>\n",
              "      <td>34.167374</td>\n",
              "      <td>-2.963943</td>\n",
              "      <td>0.0</td>\n",
              "      <td>17.0</td>\n",
              "      <td>1.0</td>\n",
              "      <td>420.637795</td>\n",
              "      <td>2002.070866</td>\n",
              "    </tr>\n",
              "    <tr>\n",
              "      <th>std</th>\n",
              "      <td>4436.462946</td>\n",
              "      <td>27.283634</td>\n",
              "      <td>0.111047</td>\n",
              "      <td>0.045715</td>\n",
              "      <td>0.0</td>\n",
              "      <td>0.0</td>\n",
              "      <td>0.0</td>\n",
              "      <td>238.024598</td>\n",
              "      <td>5.821663</td>\n",
              "    </tr>\n",
              "    <tr>\n",
              "      <th>min</th>\n",
              "      <td>0.000000</td>\n",
              "      <td>1301.000000</td>\n",
              "      <td>33.982075</td>\n",
              "      <td>-3.075578</td>\n",
              "      <td>0.0</td>\n",
              "      <td>17.0</td>\n",
              "      <td>1.0</td>\n",
              "      <td>1.000000</td>\n",
              "      <td>1985.000000</td>\n",
              "    </tr>\n",
              "    <tr>\n",
              "      <th>25%</th>\n",
              "      <td>0.000000</td>\n",
              "      <td>1332.500000</td>\n",
              "      <td>34.075239</td>\n",
              "      <td>-2.989430</td>\n",
              "      <td>0.0</td>\n",
              "      <td>17.0</td>\n",
              "      <td>1.0</td>\n",
              "      <td>300.000000</td>\n",
              "      <td>1997.000000</td>\n",
              "    </tr>\n",
              "    <tr>\n",
              "      <th>50%</th>\n",
              "      <td>0.000000</td>\n",
              "      <td>1352.000000</td>\n",
              "      <td>34.144579</td>\n",
              "      <td>-2.970811</td>\n",
              "      <td>0.0</td>\n",
              "      <td>17.0</td>\n",
              "      <td>1.0</td>\n",
              "      <td>500.000000</td>\n",
              "      <td>2005.000000</td>\n",
              "    </tr>\n",
              "    <tr>\n",
              "      <th>75%</th>\n",
              "      <td>0.000000</td>\n",
              "      <td>1370.000000</td>\n",
              "      <td>34.258415</td>\n",
              "      <td>-2.933263</td>\n",
              "      <td>0.0</td>\n",
              "      <td>17.0</td>\n",
              "      <td>1.0</td>\n",
              "      <td>500.000000</td>\n",
              "      <td>2007.000000</td>\n",
              "    </tr>\n",
              "    <tr>\n",
              "      <th>max</th>\n",
              "      <td>50000.000000</td>\n",
              "      <td>1434.000000</td>\n",
              "      <td>34.398348</td>\n",
              "      <td>-2.858905</td>\n",
              "      <td>0.0</td>\n",
              "      <td>17.0</td>\n",
              "      <td>1.0</td>\n",
              "      <td>1500.000000</td>\n",
              "      <td>2012.000000</td>\n",
              "    </tr>\n",
              "  </tbody>\n",
              "</table>\n",
              "</div>"
            ],
            "text/plain": [
              "         amount_tsh   gps_height   longitude    latitude  num_private  \\\n",
              "count    127.000000   127.000000  127.000000  127.000000        127.0   \n",
              "mean     432.283465  1350.874016   34.167374   -2.963943          0.0   \n",
              "std     4436.462946    27.283634    0.111047    0.045715          0.0   \n",
              "min        0.000000  1301.000000   33.982075   -3.075578          0.0   \n",
              "25%        0.000000  1332.500000   34.075239   -2.989430          0.0   \n",
              "50%        0.000000  1352.000000   34.144579   -2.970811          0.0   \n",
              "75%        0.000000  1370.000000   34.258415   -2.933263          0.0   \n",
              "max    50000.000000  1434.000000   34.398348   -2.858905          0.0   \n",
              "\n",
              "       region_code  district_code   population  construction_year  \n",
              "count        127.0          127.0   127.000000         127.000000  \n",
              "mean          17.0            1.0   420.637795        2002.070866  \n",
              "std            0.0            0.0   238.024598           5.821663  \n",
              "min           17.0            1.0     1.000000        1985.000000  \n",
              "25%           17.0            1.0   300.000000        1997.000000  \n",
              "50%           17.0            1.0   500.000000        2005.000000  \n",
              "75%           17.0            1.0   500.000000        2007.000000  \n",
              "max           17.0            1.0  1500.000000        2012.000000  "
            ]
          },
          "metadata": {
            "tags": []
          },
          "execution_count": 52
        }
      ]
    },
    {
      "metadata": {
        "id": "AVUKmp1LsTpf",
        "colab_type": "code",
        "colab": {}
      },
      "cell_type": "code",
      "source": [
        "import pandas as pd\n",
        "feature_imp = pd.Series(clf.feature_importances_,index=iris.feature_names).sort_values(ascending=False)"
      ],
      "execution_count": 0,
      "outputs": []
    },
    {
      "metadata": {
        "id": "epQxoed4s7aK",
        "colab_type": "code",
        "colab": {}
      },
      "cell_type": "code",
      "source": [
        "rf = m.named_steps['randomforestclassifier']"
      ],
      "execution_count": 0,
      "outputs": []
    },
    {
      "metadata": {
        "id": "ajQFyPAhjLXf",
        "colab_type": "code",
        "colab": {}
      },
      "cell_type": "code",
      "source": [
        "X_train_numeric.amount_tsh.value_counts()"
      ],
      "execution_count": 0,
      "outputs": []
    },
    {
      "metadata": {
        "id": "smevVTnFl_L7",
        "colab_type": "code",
        "colab": {
          "base_uri": "https://localhost:8080/",
          "height": 429
        },
        "outputId": "3f1e2f8f-f914-44d2-e624-efd6332c9d9f"
      },
      "cell_type": "code",
      "source": [
        "import seaborn as sns\n",
        "\n",
        "sns.set_style('darkgrid')\n",
        "sns.distplot(X_train_numeric.amount_tsh)"
      ],
      "execution_count": 274,
      "outputs": [
        {
          "output_type": "stream",
          "text": [
            "/usr/local/lib/python3.6/dist-packages/matplotlib/axes/_axes.py:6521: MatplotlibDeprecationWarning: \n",
            "The 'normed' kwarg was deprecated in Matplotlib 2.1 and will be removed in 3.1. Use 'density' instead.\n",
            "  alternative=\"'density'\", removal=\"3.1\")\n"
          ],
          "name": "stderr"
        },
        {
          "output_type": "execute_result",
          "data": {
            "text/plain": [
              "<matplotlib.axes._subplots.AxesSubplot at 0x7f1662cdbf98>"
            ]
          },
          "metadata": {
            "tags": []
          },
          "execution_count": 274
        },
        {
          "output_type": "display_data",
          "data": {
            "image/png": "[encoded data removed]",
            "text/plain": [
              "<Figure size 576x396 with 1 Axes>"
            ]
          },
          "metadata": {
            "tags": []
          }
        }
      ]
    },
    {
      "metadata": {
        "id": "JR4GAa4Qv-oR",
        "colab_type": "code",
        "colab": {}
      },
      "cell_type": "code",
      "source": [
        "feature_imp = rf.feature_importances_"
      ],
      "execution_count": 0,
      "outputs": []
    },
    {
      "metadata": {
        "id": "QNJnOnHfwX_7",
        "colab_type": "code",
        "colab": {}
      },
      "cell_type": "code",
      "source": [
        "pd.Series(feature_imp)"
      ],
      "execution_count": 0,
      "outputs": []
    },
    {
      "metadata": {
        "id": "9GErEQOL6cPd",
        "colab_type": "code",
        "colab": {
          "base_uri": "https://localhost:8080/",
          "height": 136
        },
        "outputId": "4963e8f0-a339-4b56-ee2f-c9116a690081"
      },
      "cell_type": "code",
      "source": [
        "X_train_numeric.columns"
      ],
      "execution_count": 275,
      "outputs": [
        {
          "output_type": "execute_result",
          "data": {
            "text/plain": [
              "Index(['amount_tsh', 'funder', 'gps_height', 'installer', 'longitude',\n",
              "       'latitude', 'num_private', 'basin', 'region_code', 'district_code',\n",
              "       'lga', 'population', 'public_meeting', 'recorded_by', 'permit',\n",
              "       'construction_year', 'extraction_type', 'management', 'payment',\n",
              "       'payment_type', 'water_quality', 'quality_group', 'quantity', 'source',\n",
              "       'source_type', 'waterpoint_type', 'year', 'month', 'Age'],\n",
              "      dtype='object')"
            ]
          },
          "metadata": {
            "tags": []
          },
          "execution_count": 275
        }
      ]
    },
    {
      "metadata": {
        "id": "W9ebXA07m4CW",
        "colab_type": "text"
      },
      "cell_type": "markdown",
      "source": [
        "#Modeling and Training"
      ]
    },
    {
      "metadata": {
        "id": "mpCIHLUzv3Mi",
        "colab_type": "code",
        "colab": {}
      },
      "cell_type": "code",
      "source": [
        "def wrangle_3(X):\n",
        "  X = X.copy()\n",
        "  low_cardinality = ['basin','region',\n",
        "       'extraction_type_group', 'extraction_type_class', 'management',\n",
        "       'management_group', 'payment', 'payment_type', 'water_quality',\n",
        "       'quantity', 'source', 'source_type','quantity_group',\n",
        "       'source_class', 'waterpoint_type', 'waterpoint_type_group']\n",
        "  \n",
        "  #install_less_than_300 =  X['installer'].value_counts()[X['installer'].value_counts()<300].index\n",
        "  #install_less_than_300= list(install_less_than_300)\n",
        "  #print(install_less_than_300)\n",
        "  X[X['installer'].isin(install_less_than_300)]['installer']='Other'\n",
        "  X['installer']=X['installer'].fillna('Other')\n",
        "  \n",
        "  X[X['funder'].isin(funder_less_than_100)]['funder']='Other'\n",
        "  X['funder']=X['funder'].fillna('Other')\n",
        "  \n",
        "  #X.installer.value_counts()\n",
        "  \n",
        "  #X=pd.get_dummies(X,columns=low_cardinality)\n",
        "  quality_group_map = {'unknown':0,'salty':1,'milky':2,'colored':3,'fluoride':4,'good':5}\n",
        "  X['quality_group'] =  X['quality_group'].map(quality_group_map)\n",
        "  #X['quality_group_square']=X['quality_group']**2\n",
        "  \n",
        "  #quantity_map ={'dry':0,'insufficient':1,'unknown':2,'seasonal':3,'enough':4}\n",
        "  #X['quantity'] = X['quantity'].replace(quantity_map)\n",
        "  \n",
        "  X['permit']=X['permit'].fillna(False)\n",
        "  X['permit']=X['permit'].replace({True:1,False:0})\n",
        " \n",
        "  X['public_meeting']=X['public_meeting'].fillna(False)\n",
        "  X['public_meeting']=X['public_meeting'].replace({True:1,False:0})  \n",
        "  \n",
        "  X = pd.merge(X, population_median, how='left')\n",
        "  condition=(X['population']==0)\n",
        "  p_median = X[condition]['population_median']\n",
        "  X.loc[condition,'population']=p_median\n",
        "  X['population'] = X['population'].fillna(total_population_median)\n",
        "  \n",
        "   \n",
        "  #other_feature_drop=['amount_tsh','longitude','latitude']\n",
        "  #X=X.drop(other_feature_drop,axis=1)\n",
        "  \n",
        "  subclass_feature=['extraction_type_class','extraction_type_group','quantity_group',\n",
        "                    'waterpoint_type_group','management_group','source_class','region','population_median']\n",
        "  X=X.drop(subclass_feature,axis=1)\n",
        "  \n",
        "  \n",
        "  X['construction_year'] = X['construction_year'].replace({0:construction_year_median})\n",
        "  \n",
        "  X['temp']=X.date_recorded.str.split('-')\n",
        "  X['year']=X['temp'].map(lambda x: x[0])\n",
        "  X['year']=pd.to_numeric(X['year'])\n",
        "  \n",
        "  X['month']=X['temp'].map(lambda x: x[1])\n",
        "  \n",
        "  X['Age']=X['year']-X['construction_year']\n",
        "  \n",
        "  \n",
        "  high_cardinality =['date_recorded','wpt_name','subvillage','ward','scheme_name']\n",
        "  X=X.drop(high_cardinality, axis=1)\n",
        "  X=X.drop(['scheme_management','temp'], axis=1)\n",
        "  \n",
        "  train_features\n",
        "  #X['Age_square']=(2018-X['construction_year'])**2\n",
        "  #print(X.isnull().sum())\n",
        "  #print(X.columns)\n",
        "  return X\n"
      ],
      "execution_count": 0,
      "outputs": []
    },
    {
      "metadata": {
        "id": "CvVZr2_eo9YL",
        "colab_type": "code",
        "outputId": "864e5b91-2177-4a0c-c346-f419302a964d",
        "colab": {
          "base_uri": "https://localhost:8080/",
          "height": 241
        }
      },
      "cell_type": "code",
      "source": [
        "X_train_numeric = wrangle_3(X_train)\n",
        "X_val_numeric = wrangle_3(X_val)\n",
        "X_test_numeric = wrangle_3(X_test)"
      ],
      "execution_count": 283,
      "outputs": [
        {
          "output_type": "stream",
          "text": [
            "/usr/local/lib/python3.6/dist-packages/ipykernel_launcher.py:12: SettingWithCopyWarning: \n",
            "A value is trying to be set on a copy of a slice from a DataFrame.\n",
            "Try using .loc[row_indexer,col_indexer] = value instead\n",
            "\n",
            "See the caveats in the documentation: http://pandas.pydata.org/pandas-docs/stable/indexing.html#indexing-view-versus-copy\n",
            "  if sys.path[0] == '':\n",
            "/usr/local/lib/python3.6/dist-packages/ipykernel_launcher.py:15: SettingWithCopyWarning: \n",
            "A value is trying to be set on a copy of a slice from a DataFrame.\n",
            "Try using .loc[row_indexer,col_indexer] = value instead\n",
            "\n",
            "See the caveats in the documentation: http://pandas.pydata.org/pandas-docs/stable/indexing.html#indexing-view-versus-copy\n",
            "  from ipykernel import kernelapp as app\n"
          ],
          "name": "stderr"
        }
      ]
    },
    {
      "metadata": {
        "id": "DlhhNfxn3FWo",
        "colab_type": "code",
        "outputId": "d5ec5bf4-6cdb-41d0-9487-c62d0d9b8016",
        "colab": {
          "base_uri": "https://localhost:8080/",
          "height": 34
        }
      },
      "cell_type": "code",
      "source": [
        "X_train_numeric.shape, X_val_numeric.shape,X_test_numeric.shape"
      ],
      "execution_count": 284,
      "outputs": [
        {
          "output_type": "execute_result",
          "data": {
            "text/plain": [
              "((44550, 26), (14850, 26), (14358, 26))"
            ]
          },
          "metadata": {
            "tags": []
          },
          "execution_count": 284
        }
      ]
    },
    {
      "metadata": {
        "id": "gD9QlUedop3p",
        "colab_type": "code",
        "colab": {
          "base_uri": "https://localhost:8080/",
          "height": 476
        },
        "outputId": "eb669d61-fb70-417c-cda0-a4a9bf02fc77"
      },
      "cell_type": "code",
      "source": [
        "X_train_numeric.isnull().sum()"
      ],
      "execution_count": 285,
      "outputs": [
        {
          "output_type": "execute_result",
          "data": {
            "text/plain": [
              "funder               0\n",
              "gps_height           0\n",
              "installer            0\n",
              "num_private          0\n",
              "basin                0\n",
              "region_code          0\n",
              "district_code        0\n",
              "lga                  0\n",
              "population           0\n",
              "public_meeting       0\n",
              "recorded_by          0\n",
              "permit               0\n",
              "construction_year    0\n",
              "extraction_type      0\n",
              "management           0\n",
              "payment              0\n",
              "payment_type         0\n",
              "water_quality        0\n",
              "quality_group        0\n",
              "quantity             0\n",
              "source               0\n",
              "source_type          0\n",
              "waterpoint_type      0\n",
              "year                 0\n",
              "month                0\n",
              "Age                  0\n",
              "dtype: int64"
            ]
          },
          "metadata": {
            "tags": []
          },
          "execution_count": 285
        }
      ]
    },
    {
      "metadata": {
        "id": "elO9b1NxmxzK",
        "colab_type": "code",
        "colab": {}
      },
      "cell_type": "code",
      "source": [
        "pipeline = make_pipeline(\n",
        "    ce.OneHotEncoder(use_cat_names=True),\n",
        "    StandardScaler(),\n",
        "    #LogisticRegression(solver='lbfgs',multi_class='multinomial',max_iter=10000)\n",
        "    #KNeighborsClassifier()\n",
        "    RandomForestClassifier(n_estimators=200)\n",
        ")\n"
      ],
      "execution_count": 0,
      "outputs": []
    },
    {
      "metadata": {
        "id": "MWk2b8xCRLZP",
        "colab_type": "code",
        "colab": {}
      },
      "cell_type": "code",
      "source": [
        "status_map={'non functional':0,'functional needs repair':1,'functional':2}"
      ],
      "execution_count": 0,
      "outputs": []
    },
    {
      "metadata": {
        "id": "2azMn1z6RkW0",
        "colab_type": "code",
        "colab": {}
      },
      "cell_type": "code",
      "source": [
        "y_train = y_train.replace(status_map)"
      ],
      "execution_count": 0,
      "outputs": []
    },
    {
      "metadata": {
        "id": "KTxXrTpnpNh_",
        "colab_type": "code",
        "outputId": "93bc403d-0375-42e1-ac15-3426817dae2d",
        "colab": {
          "base_uri": "https://localhost:8080/",
          "height": 105
        }
      },
      "cell_type": "code",
      "source": [
        "m = pipeline.fit(X_train_numeric,y_train)"
      ],
      "execution_count": 289,
      "outputs": [
        {
          "output_type": "stream",
          "text": [
            "/usr/local/lib/python3.6/dist-packages/sklearn/preprocessing/data.py:645: DataConversionWarning: Data with input dtype int64, float64 were all converted to float64 by StandardScaler.\n",
            "  return self.partial_fit(X, y)\n",
            "/usr/local/lib/python3.6/dist-packages/sklearn/base.py:467: DataConversionWarning: Data with input dtype int64, float64 were all converted to float64 by StandardScaler.\n",
            "  return self.fit(X, y, **fit_params).transform(X)\n"
          ],
          "name": "stderr"
        }
      ]
    },
    {
      "metadata": {
        "id": "0tnm5PGjvVJz",
        "colab_type": "text"
      },
      "cell_type": "markdown",
      "source": [
        "#Old Transform"
      ]
    },
    {
      "metadata": {
        "id": "Cdxq8e7RmoSW",
        "colab_type": "code",
        "colab": {}
      },
      "cell_type": "code",
      "source": [
        "def wrangle(X):\n",
        "  X = X.copy()\n",
        "  low_cardinality = ['basin','region',\n",
        "       'extraction_type_group', 'extraction_type_class', 'management',\n",
        "       'management_group', 'payment', 'payment_type', 'water_quality',\n",
        "       'quantity', 'source', 'source_type','quantity_group',\n",
        "       'source_class', 'waterpoint_type', 'waterpoint_type_group']\n",
        "  \n",
        "  X=pd.get_dummies(X,columns=low_cardinality)\n",
        "  quality_group_map = {'unknown':0,'salty':1,'milky':2,'colored':3,'fluoride':4,'good':5}\n",
        "  X['quality_group'] =  X['quality_group'].map(quality_group_map)\n",
        "  X['quality_group_square']=X['quality_group']**2\n",
        "  \n",
        "  X = X.select_dtypes(np.number)\n",
        "  \n",
        "  \n",
        "  return X\n",
        "\n",
        "def wrangle_OneCode(X):\n",
        "  X = X.copy()\n",
        "  low_cardinality = ['basin','region',\n",
        "       'extraction_type_group', 'extraction_type_class', 'management',\n",
        "       'management_group', 'payment', 'payment_type', 'water_quality',\n",
        "       'quantity', 'source', 'source_type','quantity_group',\n",
        "       'source_class', 'waterpoint_type', 'waterpoint_type_group']\n",
        "  \n",
        "  #install_less_than_300 =  X['installer'].value_counts()[X['installer'].value_counts()<300].index\n",
        "  #install_less_than_300= list(install_less_than_300)\n",
        "  #print(install_less_than_300)\n",
        "  X[X['installer'].isin(install_less_than_300)]['installer']='Other'\n",
        "  X['installer']=X['installer'].fillna('Other')\n",
        "  \n",
        "  #X.installer.value_counts()\n",
        "  \n",
        "  #X=pd.get_dummies(X,columns=low_cardinality)\n",
        "  quality_group_map = {'unknown':0,'salty':1,'milky':2,'colored':3,'fluoride':4,'good':5}\n",
        "  X['quality_group'] =  X['quality_group'].map(quality_group_map)\n",
        "  #X['quality_group_square']=X['quality_group']**2\n",
        "   \n",
        "  high_cardinality =['date_recorded','funder','wpt_name','subvillage','ward','scheme_name']\n",
        "  X=X.drop(high_cardinality, axis=1)\n",
        "  X=X.drop(['public_meeting','scheme_management','permit'], axis=1)\n",
        "  \n",
        "  subclass_feature=['extraction_type_class','extraction_type_group']\n",
        "  #X=X.drop(subclass_feature,axis=1)\n",
        "  \n",
        "  #X['construction_year'].replace({0:construction_year_mean})\n",
        "  #X['Age_square']=(2018-X['construction_year'])**2\n",
        "  #print(X.isnull().sum())\n",
        "  #print(X.columns)\n",
        "  return X\n"
      ],
      "execution_count": 0,
      "outputs": []
    },
    {
      "metadata": {
        "id": "JxpvgXGovmYh",
        "colab_type": "text"
      },
      "cell_type": "markdown",
      "source": [
        "# predict and val"
      ]
    },
    {
      "metadata": {
        "id": "T6B31kvoplbI",
        "colab_type": "code",
        "outputId": "004bff8a-6624-4be9-8665-21ca4b1e0f7d",
        "colab": {
          "base_uri": "https://localhost:8080/",
          "height": 71
        }
      },
      "cell_type": "code",
      "source": [
        "y_pred=m.predict(X_val_numeric)"
      ],
      "execution_count": 290,
      "outputs": [
        {
          "output_type": "stream",
          "text": [
            "/usr/local/lib/python3.6/dist-packages/sklearn/pipeline.py:331: DataConversionWarning: Data with input dtype int64, float64 were all converted to float64 by StandardScaler.\n",
            "  Xt = transform.transform(Xt)\n"
          ],
          "name": "stderr"
        }
      ]
    },
    {
      "metadata": {
        "id": "-r-vLnegX1o1",
        "colab_type": "code",
        "colab": {}
      },
      "cell_type": "code",
      "source": [
        "y_val=y_val.map(status_map)"
      ],
      "execution_count": 0,
      "outputs": []
    },
    {
      "metadata": {
        "id": "xQytjWwXwWJp",
        "colab_type": "code",
        "colab": {}
      },
      "cell_type": "code",
      "source": [
        "y_pred"
      ],
      "execution_count": 0,
      "outputs": []
    },
    {
      "metadata": {
        "id": "KwjAOeDSv6ay",
        "colab_type": "code",
        "colab": {}
      },
      "cell_type": "code",
      "source": [
        "y_val"
      ],
      "execution_count": 0,
      "outputs": []
    },
    {
      "metadata": {
        "id": "2cpNxEl9puGx",
        "colab_type": "code",
        "outputId": "2d8155c5-b1c2-41bb-d13e-1f42f0383411",
        "colab": {
          "base_uri": "https://localhost:8080/",
          "height": 34
        }
      },
      "cell_type": "code",
      "source": [
        "accuracy_score(y_val,y_pred)"
      ],
      "execution_count": 292,
      "outputs": [
        {
          "output_type": "execute_result",
          "data": {
            "text/plain": [
              "0.7933333333333333"
            ]
          },
          "metadata": {
            "tags": []
          },
          "execution_count": 292
        }
      ]
    },
    {
      "metadata": {
        "id": "Mf9tZAk_p2bZ",
        "colab_type": "code",
        "outputId": "488af5bf-bb27-4e67-a729-f211c22dca66",
        "colab": {
          "base_uri": "https://localhost:8080/",
          "height": 85
        }
      },
      "cell_type": "code",
      "source": [
        "pd.Series(y_pred).value_counts()"
      ],
      "execution_count": 293,
      "outputs": [
        {
          "output_type": "execute_result",
          "data": {
            "text/plain": [
              "2    8733\n",
              "0    5350\n",
              "1     767\n",
              "dtype: int64"
            ]
          },
          "metadata": {
            "tags": []
          },
          "execution_count": 293
        }
      ]
    },
    {
      "metadata": {
        "id": "5k8PBHEZm8wu",
        "colab_type": "text"
      },
      "cell_type": "markdown",
      "source": [
        "#Testing"
      ]
    },
    {
      "metadata": {
        "id": "68V5j_5HYJGj",
        "colab_type": "code",
        "outputId": "1186986a-1863-4a02-c702-8533c4d2256e",
        "colab": {
          "base_uri": "https://localhost:8080/",
          "height": 71
        }
      },
      "cell_type": "code",
      "source": [
        "y_pred=m.predict(X_test_numeric)"
      ],
      "execution_count": 256,
      "outputs": [
        {
          "output_type": "stream",
          "text": [
            "/usr/local/lib/python3.6/dist-packages/sklearn/pipeline.py:331: DataConversionWarning: Data with input dtype int64, float64 were all converted to float64 by StandardScaler.\n",
            "  Xt = transform.transform(Xt)\n"
          ],
          "name": "stderr"
        }
      ]
    },
    {
      "metadata": {
        "id": "O6O-EuB6YvaO",
        "colab_type": "code",
        "colab": {}
      },
      "cell_type": "code",
      "source": [
        "y_pred = pd.Series(y_pred)"
      ],
      "execution_count": 0,
      "outputs": []
    },
    {
      "metadata": {
        "id": "eYAPGj7-2stF",
        "colab_type": "code",
        "colab": {}
      },
      "cell_type": "code",
      "source": [
        "y_pred"
      ],
      "execution_count": 0,
      "outputs": []
    },
    {
      "metadata": {
        "id": "l9YEAihpY2iW",
        "colab_type": "code",
        "colab": {}
      },
      "cell_type": "code",
      "source": [
        "status_map_r = {0:'non functional',1:'functional needs repair',2:'functional'}"
      ],
      "execution_count": 0,
      "outputs": []
    },
    {
      "metadata": {
        "id": "UtsSXuQgZI5L",
        "colab_type": "code",
        "colab": {}
      },
      "cell_type": "code",
      "source": [
        "y_pred = y_pred.replace(status_map_r)"
      ],
      "execution_count": 0,
      "outputs": []
    },
    {
      "metadata": {
        "id": "5Gnzk2QKbcn4",
        "colab_type": "code",
        "outputId": "c00af4d0-b275-4eca-a7ab-56a13e4bd1fe",
        "colab": {
          "base_uri": "https://localhost:8080/",
          "height": 85
        }
      },
      "cell_type": "code",
      "source": [
        "y_pred.value_counts(normalize=True)"
      ],
      "execution_count": 261,
      "outputs": [
        {
          "output_type": "execute_result",
          "data": {
            "text/plain": [
              "functional                 0.574523\n",
              "non functional             0.372406\n",
              "functional needs repair    0.053071\n",
              "dtype: float64"
            ]
          },
          "metadata": {
            "tags": []
          },
          "execution_count": 261
        }
      ]
    },
    {
      "metadata": {
        "id": "18uYAHUddJAS",
        "colab_type": "code",
        "colab": {}
      },
      "cell_type": "code",
      "source": [
        "submission['status_group']=y_pred"
      ],
      "execution_count": 0,
      "outputs": []
    },
    {
      "metadata": {
        "id": "ZUfB5cOydqoy",
        "colab_type": "code",
        "colab": {}
      },
      "cell_type": "code",
      "source": [
        "from google.colab import files\n",
        "\n",
        "submission.to_csv('test_labels.csv',index=False)\n",
        "files.download('test_labels.csv')"
      ],
      "execution_count": 0,
      "outputs": []
    },
    {
      "metadata": {
        "id": "18EI_xg7hY1A",
        "colab_type": "text"
      },
      "cell_type": "markdown",
      "source": [
        ""
      ]
    }
  ]
}
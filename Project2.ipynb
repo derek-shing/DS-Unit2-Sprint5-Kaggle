{
  "nbformat": 4,
  "nbformat_minor": 0,
  "metadata": {
    "colab": {
      "name": "Project2.ipynb",
      "version": "0.3.2",
      "provenance": [],
      "collapsed_sections": [],
      "toc_visible": true,
      "include_colab_link": true
    },
    "kernelspec": {
      "name": "python3",
      "display_name": "Python 3"
    }
  },
  "cells": [
    {
      "cell_type": "markdown",
      "metadata": {
        "id": "view-in-github",
        "colab_type": "text"
      },
      "source": [
        "<a href=\"https://colab.research.google.com/github/derek-shing/DS-Unit2-Sprint5-Kaggle/blob/master/Project2.ipynb\" target=\"_parent\"><img src=\"https://colab.research.google.com/assets/colab-badge.svg\" alt=\"Open In Colab\"/></a>"
      ]
    },
    {
      "metadata": {
        "id": "DvmbR0Y7ezGk",
        "colab_type": "text"
      },
      "cell_type": "markdown",
      "source": [
        "#Loading Data"
      ]
    },
    {
      "metadata": {
        "id": "8e8p5Ftsek0V",
        "colab_type": "code",
        "colab": {}
      },
      "cell_type": "code",
      "source": [
        "import pandas as pd\n",
        "import numpy as np\n",
        "from google.colab import drive\n",
        "from sklearn.model_selection import train_test_split\n",
        "from sklearn.metrics import accuracy_score\n",
        "from sklearn.preprocessing import StandardScaler\n",
        "from sklearn.pipeline import make_pipeline\n",
        "from sklearn.linear_model import LogisticRegression\n",
        "from sklearn.neighbors import KNeighborsClassifier\n",
        "#from sklearn.preprocessing import OneHotEncoder\n",
        "from sklearn.ensemble import RandomForestClassifier\n",
        "import category_encoders as ce"
      ],
      "execution_count": 0,
      "outputs": []
    },
    {
      "metadata": {
        "id": "8uCL8_W_PMct",
        "colab_type": "code",
        "colab": {}
      },
      "cell_type": "code",
      "source": [
        "!pip install category_encoders"
      ],
      "execution_count": 0,
      "outputs": []
    },
    {
      "metadata": {
        "id": "5xwIHf7lfgCe",
        "colab_type": "code",
        "outputId": "8d9365a3-0e7e-40ab-c1a8-b6d67bd3287d",
        "colab": {
          "base_uri": "https://localhost:8080/",
          "height": 122
        }
      },
      "cell_type": "code",
      "source": [
        "drive.mount('/content/gdrive', force_remount=True)"
      ],
      "execution_count": 4,
      "outputs": [
        {
          "output_type": "stream",
          "text": [
            "Go to this URL in a browser: https://accounts.google.com/o/oauth2/auth?client_id=947318989803-6bn6qk8qdgf4n4g3pfee6491hc0brc4i.apps.googleusercontent.com&redirect_uri=urn%3Aietf%3Awg%3Aoauth%3A2.0%3Aoob&scope=email%20https%3A%2F%2Fwww.googleapis.com%2Fauth%2Fdocs.test%20https%3A%2F%2Fwww.googleapis.com%2Fauth%2Fdrive%20https%3A%2F%2Fwww.googleapis.com%2Fauth%2Fdrive.photos.readonly%20https%3A%2F%2Fwww.googleapis.com%2Fauth%2Fpeopleapi.readonly&response_type=code\n",
            "\n",
            "Enter your authorization code:\n",
            "··········\n",
            "Mounted at /content/gdrive\n"
          ],
          "name": "stdout"
        }
      ]
    },
    {
      "metadata": {
        "id": "xsNfKMMKftIc",
        "colab_type": "code",
        "colab": {}
      },
      "cell_type": "code",
      "source": [
        "train_features = pd.read_csv('/content/gdrive/My Drive/train_features.csv')\n",
        "train_labels = pd.read_csv('/content/gdrive/My Drive/train_labels.csv')\n",
        "test_features = pd.read_csv('/content/gdrive/My Drive/test_features.csv')\n",
        "submission = pd.read_csv('/content/gdrive/My Drive/sample_submission.csv')\n",
        "construction_year_median = train_features[train_features['construction_year']!=0]['construction_year'].median()\n",
        "install_less_than_300 =  train_features['installer'].value_counts()[train_features['installer'].value_counts()<300].index\n",
        "install_less_than_300= list(install_less_than_300)\n",
        "funder_less_than_100 =  train_features['funder'].value_counts()[train_features['funder'].value_counts()<100].index\n",
        "funder_less_than_100= list(funder_less_than_100)\n"
      ],
      "execution_count": 0,
      "outputs": []
    },
    {
      "metadata": {
        "id": "jZNA2PgETPBE",
        "colab_type": "code",
        "colab": {}
      },
      "cell_type": "code",
      "source": [
        "high_cardinality =list(train_features.select_dtypes(exclude=np.number).nunique()[train_features.select_dtypes(exclude=np.number).nunique()>50].index)"
      ],
      "execution_count": 0,
      "outputs": []
    },
    {
      "metadata": {
        "id": "kX330wPaiWk6",
        "colab_type": "code",
        "outputId": "448783a5-f05a-4c07-8980-bc2eb5f1c626",
        "colab": {
          "base_uri": "https://localhost:8080/",
          "height": 34
        }
      },
      "cell_type": "code",
      "source": [
        "train_features.shape, train_labels.shape, test_features.shape"
      ],
      "execution_count": 37,
      "outputs": [
        {
          "output_type": "execute_result",
          "data": {
            "text/plain": [
              "((59400, 40), (59400, 2), (14358, 40))"
            ]
          },
          "metadata": {
            "tags": []
          },
          "execution_count": 37
        }
      ]
    },
    {
      "metadata": {
        "id": "R4R0EYjvjMiR",
        "colab_type": "code",
        "colab": {}
      },
      "cell_type": "code",
      "source": [
        "train_features.funder.value_counts()"
      ],
      "execution_count": 0,
      "outputs": []
    },
    {
      "metadata": {
        "id": "OwcBbQjyjtPC",
        "colab_type": "code",
        "colab": {}
      },
      "cell_type": "code",
      "source": [
        "pd.options.display.max_columns=999\n",
        "pd.options.display.max_rows=999"
      ],
      "execution_count": 0,
      "outputs": []
    },
    {
      "metadata": {
        "id": "L0NLIWlLj89I",
        "colab_type": "code",
        "colab": {}
      },
      "cell_type": "code",
      "source": [
        "train_features.head().T"
      ],
      "execution_count": 0,
      "outputs": []
    },
    {
      "metadata": {
        "id": "Vjs38owwlAWN",
        "colab_type": "code",
        "colab": {}
      },
      "cell_type": "code",
      "source": [
        "y_train = train_labels['status_group']\n",
        "X_train = train_features.drop(columns='id')\n",
        "X_test  = test_features.drop(columns='id')"
      ],
      "execution_count": 0,
      "outputs": []
    },
    {
      "metadata": {
        "id": "yyjBUdymlORA",
        "colab_type": "code",
        "colab": {}
      },
      "cell_type": "code",
      "source": [
        "train_labels.head()"
      ],
      "execution_count": 0,
      "outputs": []
    },
    {
      "metadata": {
        "id": "YnasR04UlrJz",
        "colab_type": "code",
        "outputId": "08504f4a-3633-4afa-d474-86e127935939",
        "colab": {
          "base_uri": "https://localhost:8080/",
          "height": 34
        }
      },
      "cell_type": "code",
      "source": [
        "from sklearn.model_selection import train_test_split\n",
        "X_train, X_val, y_train, y_val = train_test_split(X_train, y_train)\n",
        "X_train.shape, X_val.shape, y_train.shape, y_val.shape"
      ],
      "execution_count": 280,
      "outputs": [
        {
          "output_type": "execute_result",
          "data": {
            "text/plain": [
              "((44550, 39), (14850, 39), (44550,), (14850,))"
            ]
          },
          "metadata": {
            "tags": []
          },
          "execution_count": 280
        }
      ]
    },
    {
      "metadata": {
        "id": "q2xmU7Jwl0U5",
        "colab_type": "code",
        "colab": {}
      },
      "cell_type": "code",
      "source": [
        "y_train.value_counts(normalize=True)"
      ],
      "execution_count": 0,
      "outputs": []
    },
    {
      "metadata": {
        "id": "soWQ-y3NwMXv",
        "colab_type": "code",
        "colab": {}
      },
      "cell_type": "code",
      "source": [
        "X_train.isnull().sum()"
      ],
      "execution_count": 0,
      "outputs": []
    },
    {
      "metadata": {
        "id": "VMTF11lxyOCC",
        "colab_type": "text"
      },
      "cell_type": "markdown",
      "source": [
        "# Study Relation"
      ]
    },
    {
      "metadata": {
        "id": "BVfEsumgyfEE",
        "colab_type": "code",
        "colab": {}
      },
      "cell_type": "code",
      "source": [
        "X_y =X_train.copy()"
      ],
      "execution_count": 0,
      "outputs": []
    },
    {
      "metadata": {
        "id": "aLqRULr90kll",
        "colab_type": "code",
        "colab": {}
      },
      "cell_type": "code",
      "source": [
        "X_y['y']=y_train"
      ],
      "execution_count": 0,
      "outputs": []
    },
    {
      "metadata": {
        "id": "bo0ZjKQk0oAY",
        "colab_type": "code",
        "colab": {
          "base_uri": "https://localhost:8080/",
          "height": 187
        },
        "outputId": "f9d1a817-2082-4186-803a-75949fc92f25"
      },
      "cell_type": "code",
      "source": [
        "X_y.columns"
      ],
      "execution_count": 174,
      "outputs": [
        {
          "output_type": "execute_result",
          "data": {
            "text/plain": [
              "Index(['amount_tsh', 'date_recorded', 'funder', 'gps_height', 'installer',\n",
              "       'longitude', 'latitude', 'wpt_name', 'num_private', 'basin',\n",
              "       'subvillage', 'region', 'region_code', 'district_code', 'lga', 'ward',\n",
              "       'population', 'public_meeting', 'recorded_by', 'scheme_management',\n",
              "       'scheme_name', 'permit', 'construction_year', 'extraction_type',\n",
              "       'extraction_type_group', 'extraction_type_class', 'management',\n",
              "       'management_group', 'payment', 'payment_type', 'water_quality',\n",
              "       'quality_group', 'quantity', 'quantity_group', 'source', 'source_type',\n",
              "       'source_class', 'waterpoint_type', 'waterpoint_type_group', 'y'],\n",
              "      dtype='object')"
            ]
          },
          "metadata": {
            "tags": []
          },
          "execution_count": 174
        }
      ]
    },
    {
      "metadata": {
        "id": "JryVl6SC0zQR",
        "colab_type": "code",
        "colab": {
          "base_uri": "https://localhost:8080/",
          "height": 173
        },
        "outputId": "14296910-619a-41ee-dcd3-5b425258087e"
      },
      "cell_type": "code",
      "source": [
        "pd.pivot_table(X_y,index=[\"permit\"],values=[\"y\"],aggfunc=[np.sum])"
      ],
      "execution_count": 179,
      "outputs": [
        {
          "output_type": "execute_result",
          "data": {
            "text/html": [
              "<div>\n",
              "<style scoped>\n",
              "    .dataframe tbody tr th:only-of-type {\n",
              "        vertical-align: middle;\n",
              "    }\n",
              "\n",
              "    .dataframe tbody tr th {\n",
              "        vertical-align: top;\n",
              "    }\n",
              "\n",
              "    .dataframe thead tr th {\n",
              "        text-align: left;\n",
              "    }\n",
              "\n",
              "    .dataframe thead tr:last-of-type th {\n",
              "        text-align: right;\n",
              "    }\n",
              "</style>\n",
              "<table border=\"1\" class=\"dataframe\">\n",
              "  <thead>\n",
              "    <tr>\n",
              "      <th></th>\n",
              "      <th>sum</th>\n",
              "    </tr>\n",
              "    <tr>\n",
              "      <th></th>\n",
              "      <th>y</th>\n",
              "    </tr>\n",
              "    <tr>\n",
              "      <th>permit</th>\n",
              "      <th></th>\n",
              "    </tr>\n",
              "  </thead>\n",
              "  <tbody>\n",
              "    <tr>\n",
              "      <th>False</th>\n",
              "      <td>14346</td>\n",
              "    </tr>\n",
              "    <tr>\n",
              "      <th>True</th>\n",
              "      <td>34471</td>\n",
              "    </tr>\n",
              "  </tbody>\n",
              "</table>\n",
              "</div>"
            ],
            "text/plain": [
              "          sum\n",
              "            y\n",
              "permit       \n",
              "False   14346\n",
              "True    34471"
            ]
          },
          "metadata": {
            "tags": []
          },
          "execution_count": 179
        }
      ]
    },
    {
      "metadata": {
        "id": "XDEAwiuU2t6R",
        "colab_type": "code",
        "colab": {
          "base_uri": "https://localhost:8080/",
          "height": 34
        },
        "outputId": "fd343956-6951-4f4d-d686-0454cefc3d0e"
      },
      "cell_type": "code",
      "source": [
        "X_y.public_meeting.isnull().sum()"
      ],
      "execution_count": 178,
      "outputs": [
        {
          "output_type": "execute_result",
          "data": {
            "text/plain": [
              "2475"
            ]
          },
          "metadata": {
            "tags": []
          },
          "execution_count": 178
        }
      ]
    },
    {
      "metadata": {
        "id": "nLNBjOYBDNLj",
        "colab_type": "code",
        "colab": {
          "base_uri": "https://localhost:8080/",
          "height": 17017
        },
        "outputId": "f70f9df4-4412-4b5d-d120-a563e789f3ec"
      },
      "cell_type": "code",
      "source": [
        "X_y.funder.value_counts()"
      ],
      "execution_count": 275,
      "outputs": [
        {
          "output_type": "execute_result",
          "data": {
            "text/plain": [
              "Government Of Tanzania            6845\n",
              "Danida                            2302\n",
              "Hesawa                            1647\n",
              "Rwssp                             1051\n",
              "World Bank                        1014\n",
              "World Vision                       958\n",
              "Kkkt                               955\n",
              "Unicef                             794\n",
              "Tasaf                              664\n",
              "District Council                   627\n",
              "Private Individual                 619\n",
              "Dhv                                609\n",
              "Dwsp                               606\n",
              "0                                  580\n",
              "Norad                              575\n",
              "Germany Republi                    464\n",
              "Tcrs                               458\n",
              "Ministry Of Water                  430\n",
              "Water                              429\n",
              "Dwe                                380\n",
              "Hifab                              353\n",
              "Netherlands                        353\n",
              "Adb                                331\n",
              "Lga                                330\n",
              "Amref                              316\n",
              "Fini Water                         313\n",
              "Oxfam                              274\n",
              "Rc Church                          257\n",
              "Wateraid                           254\n",
              "Isf                                249\n",
              "Mission                            236\n",
              "Rudep                              228\n",
              "Private                            216\n",
              "Jaica                              204\n",
              "Ces(gmbh)                          200\n",
              "Roman                              199\n",
              "Jica                               199\n",
              "Adra                               199\n",
              "Rural Water Supply And Sanitat     193\n",
              "Shipo                              179\n",
              "Wsdp                               178\n",
              "Finw                               172\n",
              "Rc                                 169\n",
              "Ded                                149\n",
              "Dh                                 148\n",
              "Lawatefuka Water Supply            143\n",
              "Go                                 142\n",
              "Kiliwater                          142\n",
              "Dmdd                               141\n",
              "Plan Int                           137\n",
              "Magadini-makiwaru Water            136\n",
              "Oxfarm                             136\n",
              "W.B                                130\n",
              "Fw                                 129\n",
              "Ces (gmbh)                         125\n",
              "Mkinga Distric Coun                123\n",
              "Wvt                                120\n",
              "Oikos E.Afrika                     119\n",
              "Kkkt_makwale                       116\n",
              "Nethalan                           113\n",
              "Concern World Wide                 109\n",
              "Lvia                               108\n",
              "Unhcr                              102\n",
              "Wananchi                           100\n",
              "African                             99\n",
              "No                                  98\n",
              "Swedish                             96\n",
              "Tardo                               94\n",
              "Community                           94\n",
              "Ki                                  93\n",
              "Ir                                  92\n",
              "He                                  92\n",
              "Roman Catholic                      91\n",
              "Unice                               91\n",
              "Is                                  90\n",
              "Anglican Church                     90\n",
              "Wua                                 90\n",
              "Dfid                                87\n",
              "Bsf                                 86\n",
              "Muwsa                               84\n",
              "Snv                                 82\n",
              "Concern                             82\n",
              "Co                                  82\n",
              "Lamp                                79\n",
              "Tassaf                              79\n",
              "Village Council                     77\n",
              "Villagers                           76\n",
              "Ru                                  74\n",
              "Germany                             74\n",
              "Hsw                                 74\n",
              "Twe                                 73\n",
              "Halmashauri Ya Wilaya Sikonge       72\n",
              "Undp                                67\n",
              "Tanza                               64\n",
              "Idc                                 63\n",
              "Vwc                                 63\n",
              "Aict                                63\n",
              "H                                   62\n",
              "Mdrdp                               62\n",
              "Ndrdp                               62\n",
              "Cmsr                                61\n",
              "Missi                               59\n",
              "Gtz                                 58\n",
              "Rc Ch                               58\n",
              "Fin Water                           58\n",
              "Japan                               56\n",
              "Kuwait                              56\n",
              "Conce                               56\n",
              "Kkkt Church                         55\n",
              "Mkinga  Distric Cou                 53\n",
              "Kaemp                               51\n",
              "Ncaa                                51\n",
              "Padep                               51\n",
              "Cdtf                                50\n",
              "Losaa-kia Water Supply              49\n",
              "Lwi                                 49\n",
              "Caritas                             48\n",
              "Marafip                             48\n",
              "Water Aid /sema                     47\n",
              "Wfp                                 47\n",
              "Sabemo                              47\n",
              "Commu                               46\n",
              "Cefa                                45\n",
              "Tlc                                 45\n",
              "National Rural                      45\n",
              "Md                                  44\n",
              "Gen                                 43\n",
              "Plan International                  43\n",
              "Solidarm                            43\n",
              "Kilindi District Co                 41\n",
              "Irish Ai                            41\n",
              "Tabora Municipal Council            41\n",
              "Kibaha Town Council                 41\n",
              "China Government                    41\n",
              "Acra                                40\n",
              "Grumeti                             40\n",
              "Twesa                               39\n",
              "Kirde                               39\n",
              "Tanapa                              39\n",
              "Dwe/norad                           38\n",
              "St                                  37\n",
              "Idara Ya Maji                       37\n",
              "Red Cross                           37\n",
              "Ta                                  37\n",
              "Finida German Tanzania Govt         37\n",
              "Sema                                36\n",
              "Devon Aid Korogwe                   36\n",
              "Tz Japan                            35\n",
              "Solidame                            35\n",
              "Dads                                35\n",
              "Ms                                  35\n",
              "Shawasa                             35\n",
              "Un                                  34\n",
              "European Union                      34\n",
              "Abasia                              34\n",
              "Tdft                                34\n",
              "Serikali                            33\n",
              "Giz                                 33\n",
              "Redep                               33\n",
              "Cocen                               32\n",
              "Dwssp                               31\n",
              "Donor                               31\n",
              "Miziriol                            31\n",
              "Soda                                31\n",
              "Ka                                  31\n",
              "Cafod                               31\n",
              "Ridep                               30\n",
              "Songea District Council             29\n",
              "Urt                                 29\n",
              "Kuwasa                              29\n",
              "Songea Municipal Counci             28\n",
              "Mbiuwasa                            28\n",
              "Holland                             28\n",
              "Aar                                 27\n",
              "Dasip                               27\n",
              "The Desk And Chair Foundat          27\n",
              "Fathe                               27\n",
              "Water User As                       27\n",
              "Dhv\\norp                            27\n",
              "Undp/ilo                            27\n",
              "African Development Bank            27\n",
              "W                                   27\n",
              "Kidp                                26\n",
              "Tredep                              26\n",
              "Islamic Found                       26\n",
              "Ics                                 25\n",
              "Ilo                                 25\n",
              "Sida                                24\n",
              "Peters                              24\n",
              "Jbg                                 24\n",
              "Tuwasa                              24\n",
              "Churc                               24\n",
              "Il                                  24\n",
              "Kanisa Katoliki Lolovoni            24\n",
              "Swiss If                            24\n",
              "Kalta                               23\n",
              "Kiuma                               23\n",
              "Oikos E.Africa/european Union       23\n",
              "Partage                             23\n",
              "Ereto                               23\n",
              "Happy Watoto Foundation             23\n",
              "Cg                                  23\n",
              "Si                                  23\n",
              "Kanisa La Menonite                  23\n",
              "Cspd                                22\n",
              "Water Aid/sema                      22\n",
              "Finwater                            22\n",
              "Po                                  22\n",
              "Peter Tesha                         22\n",
              "Nethe                               22\n",
              "Not Known                           22\n",
              "Hewasa                              21\n",
              "Total Land Care                     21\n",
              "Adp                                 21\n",
              "World Vision/adra                   21\n",
              "Finn Water                          21\n",
              "Tanzakesho                          21\n",
              "Watu Wa Ujerumani                   21\n",
              "Care International                  21\n",
              "Tacare                              21\n",
              "Halmashauri                         21\n",
              "Village                             20\n",
              "Kidep                               20\n",
              "Village Government                  20\n",
              "Cdcg                                20\n",
              "Ga                                  20\n",
              "Dw                                  20\n",
              "Ifad                                20\n",
              "Mileniam Project                    19\n",
              "Jika                                19\n",
              "Lips                                19\n",
              "Songas                              19\n",
              "Wd And Id                           19\n",
              "Biore                               19\n",
              "Save The Rain Usa                   19\n",
              "Rc Churc                            19\n",
              "Cocern                              19\n",
              "Hans                                19\n",
              "Hw/rc                               19\n",
              "Wwf                                 18\n",
              "Quwkwin                             18\n",
              "Kilwater                            18\n",
              "Ilct                                18\n",
              "Bgm                                 18\n",
              "Cefa-njombe                         18\n",
              "Singida Yetu                        17\n",
              "I Wash                              17\n",
              "Missionaries                        17\n",
              "Plan Internatio                     17\n",
              "P                                   17\n",
              "Roman Cathoric-same                 17\n",
              "Norad /government                   17\n",
              "Cmcr                                17\n",
              "Mwaya Mn                            17\n",
              "Sabodo                              17\n",
              "Rcchurch/cefa                       16\n",
              "Maji Mugumu                         16\n",
              "Bank                                16\n",
              "The People Of Japan                 16\n",
              "Village Community                   16\n",
              "Sowasa                              16\n",
              "Tanzania                            16\n",
              "Rished                              16\n",
              "Sekei Village Community             15\n",
              "Ubalozi Wa Marekani                 15\n",
              "Mkuyu                               15\n",
              "Efg                                 15\n",
              "Rotary Club                         15\n",
              "Mi                                  15\n",
              "Dadis                               15\n",
              "Norad/ Kidep                        15\n",
              "Bruder                              15\n",
              "Isf/government                      15\n",
              "Rc Church/centr                     14\n",
              "Rwsp                                14\n",
              "Sumbawanga Munici                   14\n",
              "Cipro/government                    14\n",
              "Msf                                 14\n",
              "Eu/acra                             14\n",
              "Makonde Water Population            14\n",
              "Kadp                                14\n",
              "Asb                                 14\n",
              "Msabi                               14\n",
              "Dasp                                14\n",
              "One Un                              13\n",
              "Adp Mombo                           13\n",
              "Cct                                 13\n",
              "Gain                                13\n",
              "Ukiligu                             13\n",
              "Killflora                           13\n",
              "Islamic                             13\n",
              "Msikiti                             13\n",
              "Roman Cathoric Same                 13\n",
              "Dct                                 13\n",
              "Father Bonifasi                     13\n",
              "Livin                               13\n",
              "Finland Government                  13\n",
              "Dhv Moro                            13\n",
              "Mbunge                              13\n",
              "Pmo                                 13\n",
              "Vifafi                              13\n",
              "Drdp Ngo                            13\n",
              "Luthe                               13\n",
              "Magoma Adp                          13\n",
              "Benguka                             12\n",
              "African Relie                       12\n",
              "Kuamu                               12\n",
              "Lwiji Italy                         12\n",
              "Swisland/ Mount Meru Flowers        12\n",
              "Water Board                         12\n",
              "Kalitasi                            12\n",
              "Ruthe                               12\n",
              "Idydc                               12\n",
              "Tridep                              12\n",
              "Pidp                                12\n",
              "Tado                                12\n",
              "Mdc                                 12\n",
              "Oxfam Gb                            11\n",
              "Finland                             11\n",
              "Village Council/ Haydom Luther      11\n",
              "Quick Wins                          11\n",
              "Lowasa                              11\n",
              "Tasaf/dmdd                          11\n",
              "Bahewasa                            11\n",
              "Mh An                               11\n",
              "Lgcdg                               11\n",
              "Living Water International          11\n",
              "Olgilai Village Community           11\n",
              "Peace Cope                          11\n",
              "Roman Church                        11\n",
              "Isingiro Ho                         11\n",
              "Msf/tacare                          11\n",
              "Dar Al Ber                          11\n",
              "Us Embassy                          11\n",
              "Sda                                 11\n",
              "Lutheran Church                     11\n",
              "A/co Germany                        11\n",
              "Ham                                 11\n",
              "Mamad                               10\n",
              "Imf                                 10\n",
              "Franc                               10\n",
              "Mosque                              10\n",
              "Tahea                               10\n",
              "Qwickwin                            10\n",
              "Isf/tacare                          10\n",
              "National Rural And Hfa              10\n",
              "Rada                                10\n",
              "African Muslim Agency               10\n",
              "Rdc                                 10\n",
              "Undp/aict                           10\n",
              "Tassaf I                            10\n",
              "Mem                                  9\n",
              "Mzinga A                             9\n",
              "Unicef/central                       9\n",
              "Finidagermantanzania Govt            9\n",
              "Roman Catholic Rulenge Diocese       9\n",
              "Shule                                9\n",
              "Canada                               9\n",
              "The Isla                             9\n",
              "Quick Wings                          9\n",
              "Fpct                                 9\n",
              "Ba As                                9\n",
              "Kwikwiz                              9\n",
              "Snv Ltd                              9\n",
              "Halmashauri Ya Manispa Tabora        9\n",
              "Water Project Mbawala Chini          9\n",
              "Sdg                                  9\n",
              "Wfp/tnt/usaid                        9\n",
              "Bened                                9\n",
              "Kkkt-dioces Ya Pare                  9\n",
              "Idea                                 9\n",
              "Institution                          9\n",
              "W.D & I.                             9\n",
              "Prf                                  9\n",
              "Jeica                                8\n",
              "Dak                                  8\n",
              "Rips                                 8\n",
              "Ai                                   8\n",
              "Maxavella                            8\n",
              "Government/ World Bank               8\n",
              "Private Owned                        8\n",
              "Bulyahunlu Gold Mine                 8\n",
              "Secondary                            8\n",
              "People Of Japan                      8\n",
              "Water User Group                     8\n",
              "Cobashec                             8\n",
              "Qwiqwi                               8\n",
              "Wfp/tnt                              8\n",
              "Action Contre La Faim                8\n",
              "Lifetime                             8\n",
              "Tassaf Ii                            8\n",
              "Women For Partnership                8\n",
              "Council                              8\n",
              "Aic                                  8\n",
              "Dassip                               8\n",
              "Kinapa                               8\n",
              "Rural Water Supply And Sanita        8\n",
              "Moroil                               7\n",
              "Koica                                7\n",
              "Aco/germany                          7\n",
              "Suwasa                               7\n",
              "Sengerema District Council           7\n",
              "Belgian Government                   7\n",
              "Holla                                7\n",
              "Bs                                   7\n",
              "Pci                                  7\n",
              "Williamson Diamond Ltd               7\n",
              "Regional Water Engineer Arusha       7\n",
              "Government/ Community                7\n",
              "British Colonial Government          7\n",
              "Ikela Wa                             7\n",
              "Kanisa                               7\n",
              "Bffs                                 7\n",
              "Auwasa                               7\n",
              "Af                                   7\n",
              "Serikali Ya Kijiji                   7\n",
              "Br                                   7\n",
              "De                                   7\n",
              "Dhv/gove                             7\n",
              "Elct                                 7\n",
              "Resolute Mining                      7\n",
              "Kmcl                                 7\n",
              "Nado                                 7\n",
              "Desk And Chair Foundation            7\n",
              "Chamavita                            7\n",
              "D                                    7\n",
              "Sao H                                7\n",
              "Kingupira S                          7\n",
              "Government /tassaf                   7\n",
              "Roman Cathoric -kilomeni             7\n",
              "Tltc                                 6\n",
              "Unicef/ Csp                          6\n",
              "Kilomber                             6\n",
              "Tag                                  6\n",
              "I.E.C                                6\n",
              "Kyela Council                        6\n",
              "Camavita                             6\n",
              "Cipro/care/tcrs                      6\n",
              "Ebaha                                6\n",
              "Member Of Parliament                 6\n",
              "Wfp/usaid/tnt                        6\n",
              "Mamlaka Ya Maji Ngara                6\n",
              "Healt                                6\n",
              "Rundu Man                            6\n",
              "Germany Misionary                    6\n",
              "Village Govt                         6\n",
              "Morovian Church                      6\n",
              "Africare                             6\n",
              "Pataji                               6\n",
              "Action Aid                           6\n",
              "Nk                                   6\n",
              "Sijm                                 6\n",
              "Mtuwasa                              6\n",
              "Milenia                              6\n",
              "Hapa                                 6\n",
              "Kadres Ngo                           6\n",
              "France                               6\n",
              "Olumuro                              6\n",
              "Hortanzia                            6\n",
              "Millenium                            6\n",
              "Gt                                   6\n",
              "African Development Foundation       6\n",
              "Total Landcare                       6\n",
              "Duwas                                6\n",
              "Quick                                6\n",
              "Tasafu                               6\n",
              "Aimgold                              6\n",
              "Muslims                              6\n",
              "Islam                                5\n",
              "Baric                                5\n",
              "Uhai Wa Mama Na Mtoto                5\n",
              "Rwsssp                               5\n",
              "Runduman                             5\n",
              "In                                   5\n",
              "W.C.S                                5\n",
              "Ministry Of Education                5\n",
              "Trachoma                             5\n",
              "Greec                                5\n",
              "Robert Loyal                         5\n",
              "Mbozi District Council               5\n",
              "Clause                               5\n",
              "Hospital                             5\n",
              "Vttp                                 5\n",
              "Wate Aid/sema                        5\n",
              "Kimkuma                              5\n",
              "School                               5\n",
              "Church                               5\n",
              "Tabraki                              5\n",
              "Sauwasa                              5\n",
              "Tumaini Fund                         5\n",
              "Angrikana                            5\n",
              "Dbspe                                5\n",
              "Lawate Fuka Water Suppl              5\n",
              "El                                   5\n",
              "Halmashaur                           5\n",
              "Gaica                                5\n",
              "Dawasco                              5\n",
              "Baptist Church                       5\n",
              "Losakia Water Supply                 5\n",
              "                                  ... \n",
              "Tag Church Ub                        1\n",
              "Wards                                1\n",
              "Villegers                            1\n",
              "Malec                                1\n",
              "Brown                                1\n",
              "Makori                               1\n",
              "Umoja                                1\n",
              "Buptist                              1\n",
              "Leopad Abeid                         1\n",
              "Private Person                       1\n",
              "Hdv                                  1\n",
              "Tlc/thimotheo Masunga                1\n",
              "Mwita Mahiti                         1\n",
              "Jacobin                              1\n",
              "Samlo                                1\n",
              "Bathlomew Vicent                     1\n",
              "Owner Pingo C                        1\n",
              "Hasnan Murig (mbunge)                1\n",
              "Women Fo Partnership                 1\n",
              "Simav                                1\n",
              "Bio Fuel Company                     1\n",
              "Jamal                                1\n",
              "Mama Ku                              1\n",
              "Tgt                                  1\n",
              "Haam                                 1\n",
              "Village Contributio                  1\n",
              "Maju Mugumu                          1\n",
              "Kopwe Khalifa                        1\n",
              "Ndm                                  1\n",
              "Mwanza                               1\n",
              "Muivaru                              1\n",
              "Fpct Mulala                          1\n",
              "Dwe/anglican Church                  1\n",
              "District Medical                     1\n",
              "Mow                                  1\n",
              "Subvillage                           1\n",
              "Japan Government                     1\n",
              "Richard M.Kyore                      1\n",
              "Saudia                               1\n",
              "Irish Government                     1\n",
              "Muniko                               1\n",
              "Dmd                                  1\n",
              "Quickwins                            1\n",
              "Revocatus Mahatane                   1\n",
              "Cg/rc                                1\n",
              "Hesawa And Concern World Wide        1\n",
              "S.P.C Pre-primary School             1\n",
              "Dbfpe                                1\n",
              "Godii                                1\n",
              "Wamisionari Wa Kikatoriki            1\n",
              "Lizad                                1\n",
              "Grail Mission Kiseki Bar             1\n",
              "Mzee Salum Bakari Darus              1\n",
              "Mgaya                                1\n",
              "District Rural Project               1\n",
              "Rudri                                1\n",
              "Piscope                              1\n",
              "Caltas Tanzania                      1\n",
              "Brad                                 1\n",
              "Aqua Blues Angels                    1\n",
              "Community Bank                       1\n",
              "Morrovian                            1\n",
              "Kizenga                              1\n",
              "Ruvu Darajani                        1\n",
              "Kagunguli Secondary                  1\n",
              "Serian                               1\n",
              "Wcst                                 1\n",
              "Dom                                  1\n",
              "Tdrs                                 1\n",
              "Daida                                1\n",
              "Unicrf                               1\n",
              "Hesawwa                              1\n",
              "Weepers                              1\n",
              "Maseka Community                     1\n",
              "Villege Council                      1\n",
              "Nyamasagi                            1\n",
              "Twice                                1\n",
              "Folac                                1\n",
              "Lusajo                               1\n",
              "Ester Ndege                          1\n",
              "Kindoroko Water Project              1\n",
              "Makundya                             1\n",
              "Omar Ally                            1\n",
              "Nyangere                             1\n",
              "Friends Of Ulambo And Mwanhala       1\n",
              "World Vision/rc Church               1\n",
              "Tcrst                                1\n",
              "W.F.D.P                              1\n",
              "Gg                                   1\n",
              "Marumbo Community                    1\n",
              "Kkkt Canal                           1\n",
              "Nyeisa                               1\n",
              "Mazaro Kabula                        1\n",
              "Dsdp                                 1\n",
              "Tcrs/village Community               1\n",
              "San Pellegrino                       1\n",
              "Rumaki                               1\n",
              "M                                    1\n",
              "Noshadi                              1\n",
              "Kkkt Ndrumangeni                     1\n",
              "Zingibali Secondary                  1\n",
              "Chacha Issame                        1\n",
              "Moses                                1\n",
              "Mtambo                               1\n",
              "Ermua                                1\n",
              "Un/wfp                               1\n",
              "Matogoro                             1\n",
              "Ambwene Mwaikek                      1\n",
              "Peter                                1\n",
              "Marafin                              1\n",
              "Kwik                                 1\n",
              "H4ccp                                1\n",
              "Costantine Herman                    1\n",
              "Abc-ihushi Development Cent          1\n",
              "Quicklw                              1\n",
              "Hesawza                              1\n",
              "Holand                               1\n",
              "Drwssp                               1\n",
              "Lungwe                               1\n",
              "Sisa                                 1\n",
              "Farm-africa                          1\n",
              "Mwita Muremi                         1\n",
              "Sobodo                               1\n",
              "Kwaruhombo He                        1\n",
              "Ddca                                 1\n",
              "Mbozi Hospital                       1\n",
              "Mashaka                              1\n",
              "Makuru                               1\n",
              "Area                                 1\n",
              "Othod                                1\n",
              "Engineers Without Border             1\n",
              "Sent Tho                             1\n",
              "Pwc                                  1\n",
              "Toronto-estate                       1\n",
              "Madra                                1\n",
              "Halimashau                           1\n",
              "British Tanza                        1\n",
              "Rwsso                                1\n",
              "Wdp                                  1\n",
              "Thomasi Busigaye                     1\n",
              "Kombe Foundation                     1\n",
              "Comunity Construction Fund           1\n",
              "Doctor Mwambi                        1\n",
              "Mgaya Masese                         1\n",
              "Kaaya                                1\n",
              "Ccps                                 1\n",
              "Awf                                  1\n",
              "Bread For The Wor                    1\n",
              "Robert Kampala                       1\n",
              "William Acleus                       1\n",
              "Mzung                                1\n",
              "Mwita                                1\n",
              "Dwarf                                1\n",
              "D Ct                                 1\n",
              "Municipal Council                    1\n",
              "International Aid Services           1\n",
              "Noshad                               1\n",
              "Fosecu                               1\n",
              "Tz As                                1\n",
              "Madaraweshi                          1\n",
              "Salim Ahmed Salim                    1\n",
              "Tove                                 1\n",
              "Makonder                             1\n",
              "Sua                                  1\n",
              "Ilaramataki                          1\n",
              "Lotary International                 1\n",
              "Artisan                              1\n",
              "Hassan Gulam                         1\n",
              "Jeshi La Wokovu [cida]               1\n",
              "Rhobi Wambura                        1\n",
              "Vn                                   1\n",
              "Yasini                               1\n",
              "Nmdc India                           1\n",
              "Mwalimu  Maneromango Muhenzi         1\n",
              "C                                    1\n",
              "Luchelegu Primary School             1\n",
              "Siter Fransis                        1\n",
              "Kayempu Ltd                          1\n",
              "Fdc                                  1\n",
              "Rudep /dwe                           1\n",
              "Pema                                 1\n",
              "Kwa Mzee Waziri                      1\n",
              "Villagers Mpi                        1\n",
              "Worldvision                          1\n",
              "Tlc/emmanuel Kasoga                  1\n",
              "Shule Ya Msingi Ufala                1\n",
              "Tpp                                  1\n",
              "Misheni                              1\n",
              "Mhina                                1\n",
              "Village Council/ Rose Kawala         1\n",
              "Samweli Mshosha                      1\n",
              "Theonas Mnyama                       1\n",
              "Boazi                                1\n",
              "Crs                                  1\n",
              "Pr                                   1\n",
              "Kerebuka                             1\n",
              "Stp-sustainable Tan                  1\n",
              "Ded_rwsp                             1\n",
              "Kc                                   1\n",
              "Irevea Sister                        1\n",
              "Lga And Adb                          1\n",
              "Ripati                               1\n",
              "Mhuzu                                1\n",
              "Rc Missi                             1\n",
              "Rafik                                1\n",
              "Government And Community             1\n",
              "Nyitamboka                           1\n",
              "Tasa                                 1\n",
              "Hamref                               1\n",
              "Mwanaisha Mwidadi                    1\n",
              "Usambala Sister                      1\n",
              "Lion Clu                             1\n",
              "Tlc/jenus Malecha                    1\n",
              "Tcrs Kibondo                         1\n",
              "Dqnida                               1\n",
              "Legeza Legeza                        1\n",
              "Peter Ngereka                        1\n",
              "Comune Di Roma                       1\n",
              "Tasef                                1\n",
              "Salehe                               1\n",
              "Cvs Miss                             1\n",
              "Scharnhorstgymnasium                 1\n",
              "Rarymond Ekura                       1\n",
              "Bumabu                               1\n",
              "Babtest                              1\n",
              "Tadeo                                1\n",
              "Ruangwa Lga                          1\n",
              "Shule Ya Msingi                      1\n",
              "Tasad                                1\n",
              "Kalitesi                             1\n",
              "Ro                                   1\n",
              "Ngo                                  1\n",
              "Stephano Paulo                       1\n",
              "Padep(mifugo)                        1\n",
              "Pentecostal Hagana Sweeden           1\n",
              "Sun-ja Na                            1\n",
              "Pankrasi                             1\n",
              "Uniceg                               1\n",
              "Seif Ndago                           1\n",
              "Nassan                               1\n",
              "Tabea                                1\n",
              "Makanga                              1\n",
              "Majengo Prima                        1\n",
              "Wamakapuchini                        1\n",
              "Cocu                                 1\n",
              "Bao                                  1\n",
              "Gdp                                  1\n",
              "Soko La Magomeni                     1\n",
              "Tlc/seleman Mang'ombe                1\n",
              "Cpar                                 1\n",
              "Sumo                                 1\n",
              "Village Water Commission             1\n",
              "Care/dwe                             1\n",
              "Trc                                  1\n",
              "Lgdbg                                1\n",
              "Mhoranzi                             1\n",
              "Kanisani                             1\n",
              "Mahita                               1\n",
              "Mzee Mabena                          1\n",
              "Dar Es Salaam Round Table            1\n",
              "John Skwese                          1\n",
              "Kondela                              1\n",
              "Kdpa                                 1\n",
              "Muhameid Na                          1\n",
              "Gurdians                             1\n",
              "Lgcd                                 1\n",
              "Plan Tanzania                        1\n",
              "Kanisa La Neema                      1\n",
              "Hongoli                              1\n",
              "Romam Catholic                       1\n",
              "Ardhi Instute                        1\n",
              "R                                    1\n",
              "Missionary                           1\n",
              "Kashwas                              1\n",
              "Bread Of The Worl                    1\n",
              "Egypt Government                     1\n",
              "Mwingereza                           1\n",
              "Mango Tree                           1\n",
              "Mamaz                                1\n",
              "Gerald Tuseko Gro                    1\n",
              "Zinduka                              1\n",
              "Village Res                          1\n",
              "Haydom Lutheran Hospital             1\n",
              "Vwt                                  1\n",
              "Mikumi G                             1\n",
              "Said Salum Ally                      1\n",
              "Selikali Ya Kijiji                   1\n",
              "Rudep/norad                          1\n",
              "Maajabu Pima                         1\n",
              "Tgz                                  1\n",
              "Muhindi                              1\n",
              "Hasawa                               1\n",
              "Kikom                                1\n",
              "Upendo Primary School                1\n",
              "Siss M. Minghetti                    1\n",
              "Canada Aid                           1\n",
              "Wsdo                                 1\n",
              "Kadip                                1\n",
              "Full Gospel Church                   1\n",
              "Abs                                  1\n",
              "Panone                               1\n",
              "Government/tcrs                      1\n",
              "Hhesawa                              1\n",
              "Laramatak                            1\n",
              "Doner And Ded                        1\n",
              "Mataro                               1\n",
              "Kegocha                              1\n",
              "Long Ga                              1\n",
              "Kagera                               1\n",
              "Pentekoste                           1\n",
              "Old Nyika Company                    1\n",
              "Mwl.Mwita                            1\n",
              "Icdp                                 1\n",
              "Makli                                1\n",
              "Kkkt Mareu                           1\n",
              "Norway Aid                           1\n",
              "Education Funds                      1\n",
              "Mstiiti                              1\n",
              "Zao Water Spring X                   1\n",
              "Maerere                              1\n",
              "Tree Ways German                     1\n",
              "Cc Motor Day 2010                    1\n",
              "Wspd                                 1\n",
              "Dwt                                  1\n",
              "Dmk Anglican                         1\n",
              "Perusi Bhoke                         1\n",
              "Domestic Water Supply Project        1\n",
              "Unp/aict                             1\n",
              "Dina                                 1\n",
              "Bukwang Church Saints                1\n",
              "German Missionary                    1\n",
              "Sindida Yetu                         1\n",
              "Rotery C                             1\n",
              "Sister Makulata                      1\n",
              "Watu Wa Marekani                     1\n",
              "Rotary Club Kitchener                1\n",
              "Koico                                1\n",
              "Dhv\\swis                             1\n",
              "Caltaz Kahama                        1\n",
              "Getdsc00                             1\n",
              "Bukumbi                              1\n",
              "Unicet                               1\n",
              "Malola                               1\n",
              "Hashi                                1\n",
              "Msigwa                               1\n",
              "Yasini Selemani                      1\n",
              "Mwanamisi Ally                       1\n",
              "Chuo                                 1\n",
              "Uvimaki                              1\n",
              "Kizego Jumaa                         1\n",
              "Eco Lodge                            1\n",
              "Vgovernment                          1\n",
              "Abood                                1\n",
              "Senapa                               1\n",
              "Enyuati                              1\n",
              "Mrtc                                 1\n",
              "Teonas Wambura                       1\n",
              "Mzee Ngwatu                          1\n",
              "Kalebejo Parish                      1\n",
              "Kwamdulu Estate                      1\n",
              "Lisa                                 1\n",
              "Jumanne                              1\n",
              "Scott                                1\n",
              "Wua And Ded                          1\n",
              "Insititutiona                        1\n",
              "Dadid                                1\n",
              "Charlotte Well                       1\n",
              "Kamata Project                       1\n",
              "Motiba Wambura                       1\n",
              "Wahidi                               1\n",
              "Makapuchini                          1\n",
              "Cgc                                  1\n",
              "Care/cipro                           1\n",
              "Holili Water Supply                  1\n",
              "Dokta Mwandulam                      1\n",
              "Maashumu Mohamed                     1\n",
              "Cida                                 1\n",
              "Pdi                                  1\n",
              "Mzee Omari                           1\n",
              "Hotels And Lodge Tanzania            1\n",
              "Rajab Seleman                        1\n",
              "Sister Francis                       1\n",
              "Sagaswe                              1\n",
              "Pentecost                            1\n",
              "Samsoni                              1\n",
              "Irc                                  1\n",
              "Internal Drainage Basin              1\n",
              "Neemia Mission                       1\n",
              "Eung-am Methodist Church             1\n",
              "Halmashauli                          1\n",
              "Twig                                 1\n",
              "Ms-danish                            1\n",
              "Kando                                1\n",
              "Mzee Lesilali                        1\n",
              "Plan                                 1\n",
              "None                                 1\n",
              "Simon Lusambi                        1\n",
              "Kitiangare Village Community         1\n",
              "Hez                                  1\n",
              "Lgcgd                                1\n",
              "Ras                                  1\n",
              "Ngelepo Group                        1\n",
              "Vwcvc                                1\n",
              "Maro Kyariga                         1\n",
              "Goldmain                             1\n",
              "Kwa Ditriki Cho                      1\n",
              "Answeer Muslim Grou                  1\n",
              "Pwagu                                1\n",
              "Tom                                  1\n",
              "Mambe                                1\n",
              "Hilfe Fur Brunder                    1\n",
              "Wafidhi Wa Ziwa T                    1\n",
              "Mzee Waziri Tajari                   1\n",
              "Latfu                                1\n",
              "Stephano                             1\n",
              "Luke Samaras Ltd                     1\n",
              "Nerthlands                           1\n",
              "Kfw                                  1\n",
              "Tina/africare                        1\n",
              "Magige                               1\n",
              "Msikiti Masji                        1\n",
              "Pentecostal Church                   1\n",
              "Shinyanga Shallow Wells              1\n",
              "Oikos                                1\n",
              "Abdul                                1\n",
              "Lake Tanganyika Basin                1\n",
              "Laizer                               1\n",
              "Mkuluku                              1\n",
              "Padi                                 1\n",
              "Member O                             1\n",
              "Dsp                                  1\n",
              "Eung Am Methodist Church             1\n",
              "Kigoma Municipal Council             1\n",
              "Muslimehefen International           1\n",
              "Icap                                 1\n",
              "Tlc/john Majala                      1\n",
              "Tanload                              1\n",
              "Elca                                 1\n",
              "Afya Department Lindi Rural          1\n",
              "Bukwang Church Saint                 1\n",
              "Sipdo                                1\n",
              "Mitema                               1\n",
              "Muslim World                         1\n",
              "Rotaty Club                          1\n",
              "Unhcr/danida                         1\n",
              "Tasaf And Mmem                       1\n",
              "Jamal Abdallah                       1\n",
              "Water Se                             1\n",
              "Kagera Mine                          1\n",
              "Parastatal An                        1\n",
              "Totaland Care                        1\n",
              "Kcu                                  1\n",
              "Luali Kaima                          1\n",
              "Mwalimu Omari                        1\n",
              "Taes                                 1\n",
              "Norad/japan                          1\n",
              "Shirika La Kinamama Na Watot         1\n",
              "Koica And Tanzania Government        1\n",
              "Kauzeni                              1\n",
              "Tanzaling                            1\n",
              "Bakwata                              1\n",
              "Haruna Mpog                          1\n",
              "Mahemba                              1\n",
              "Qwckwin                              1\n",
              "Paskali                              1\n",
              "Gil Cafe'church'                     1\n",
              "Tacri                                1\n",
              "Nyakaho Mwita                        1\n",
              "Water Department                     1\n",
              "Mnyama                               1\n",
              "Sumriy                               1\n",
              "Marke                                1\n",
              "Dgv                                  1\n",
              "Rashid Seng'ombe                     1\n",
              "Isnashia And                         1\n",
              "Nyahale                              1\n",
              "Friedkin Conservation Fund           1\n",
              "Meru Concrete                        1\n",
              "S.S Mohamed                          1\n",
              "Yaole                                1\n",
              "Machibya Guma                        1\n",
              "Mkurugenzi                           1\n",
              "Winkyens                             1\n",
              "Meko Balo                            1\n",
              "Mnyambe                              1\n",
              "Tingatinga Sec School                1\n",
              "Iucn                                 1\n",
              "Said Omari                           1\n",
              "Africa Project Ev Germany            1\n",
              "Incerto                              1\n",
              "Pori La Akiba Kigosi                 1\n",
              "Wanakijiji                           1\n",
              "Magutu Maro                          1\n",
              "Irevea Sister Water                  1\n",
              "Patrick                              1\n",
              "Enyueti                              1\n",
              "Roman Cathoric Church                1\n",
              "Tkc                                  1\n",
              "Mosqure                              1\n",
              "Name: funder, Length: 1639, dtype: int64"
            ]
          },
          "metadata": {
            "tags": []
          },
          "execution_count": 275
        }
      ]
    },
    {
      "metadata": {
        "id": "W9ebXA07m4CW",
        "colab_type": "text"
      },
      "cell_type": "markdown",
      "source": [
        "#Modeling"
      ]
    },
    {
      "metadata": {
        "id": "mpCIHLUzv3Mi",
        "colab_type": "code",
        "colab": {}
      },
      "cell_type": "code",
      "source": [
        "def wrangle_3(X):\n",
        "  X = X.copy()\n",
        "  low_cardinality = ['basin','region',\n",
        "       'extraction_type_group', 'extraction_type_class', 'management',\n",
        "       'management_group', 'payment', 'payment_type', 'water_quality',\n",
        "       'quantity', 'source', 'source_type','quantity_group',\n",
        "       'source_class', 'waterpoint_type', 'waterpoint_type_group']\n",
        "  \n",
        "  #install_less_than_300 =  X['installer'].value_counts()[X['installer'].value_counts()<300].index\n",
        "  #install_less_than_300= list(install_less_than_300)\n",
        "  #print(install_less_than_300)\n",
        "  X[X['installer'].isin(install_less_than_300)]['installer']='Other'\n",
        "  X['installer']=X['installer'].fillna('Other')\n",
        "  \n",
        "  X[X['funder'].isin(funder_less_than_100)]['funder']='Other'\n",
        "  X['funder']=X['funder'].fillna('Other')\n",
        "  \n",
        "  #X.installer.value_counts()\n",
        "  \n",
        "  #X=pd.get_dummies(X,columns=low_cardinality)\n",
        "  quality_group_map = {'unknown':0,'salty':1,'milky':2,'colored':3,'fluoride':4,'good':5}\n",
        "  X['quality_group'] =  X['quality_group'].map(quality_group_map)\n",
        "  #X['quality_group_square']=X['quality_group']**2\n",
        "  \n",
        "  X['permit']=X['permit'].fillna(False)\n",
        "  X['permit']=X['permit'].replace({True:1,False:0})\n",
        " \n",
        "  X['public_meeting']=X['public_meeting'].fillna(False)\n",
        "  X['public_meeting']=X['public_meeting'].replace({True:1,False:0})  \n",
        "  \n",
        "   \n",
        "  high_cardinality =['date_recorded','wpt_name','subvillage','ward','scheme_name']\n",
        "  X=X.drop(high_cardinality, axis=1)\n",
        "  X=X.drop(['scheme_management'], axis=1)\n",
        "  \n",
        "  subclass_feature=['extraction_type_class','extraction_type_group']\n",
        "  #X=X.drop(subclass_feature,axis=1)\n",
        "  \n",
        "  X['construction_year'].replace({0:construction_year_median})\n",
        "  #X['Age_square']=(2018-X['construction_year'])**2\n",
        "  #print(X.isnull().sum())\n",
        "  #print(X.columns)\n",
        "  return X\n"
      ],
      "execution_count": 0,
      "outputs": []
    },
    {
      "metadata": {
        "id": "CvVZr2_eo9YL",
        "colab_type": "code",
        "colab": {
          "base_uri": "https://localhost:8080/",
          "height": 241
        },
        "outputId": "d711972d-48ce-430d-e85a-2ec141dc88ee"
      },
      "cell_type": "code",
      "source": [
        "X_train_numeric = wrangle_3(X_train)\n",
        "X_val_numeric = wrangle_3(X_val)\n",
        "X_test_numeric = wrangle_3(X_test)"
      ],
      "execution_count": 281,
      "outputs": [
        {
          "output_type": "stream",
          "text": [
            "/usr/local/lib/python3.6/dist-packages/ipykernel_launcher.py:12: SettingWithCopyWarning: \n",
            "A value is trying to be set on a copy of a slice from a DataFrame.\n",
            "Try using .loc[row_indexer,col_indexer] = value instead\n",
            "\n",
            "See the caveats in the documentation: http://pandas.pydata.org/pandas-docs/stable/indexing.html#indexing-view-versus-copy\n",
            "  if sys.path[0] == '':\n",
            "/usr/local/lib/python3.6/dist-packages/ipykernel_launcher.py:15: SettingWithCopyWarning: \n",
            "A value is trying to be set on a copy of a slice from a DataFrame.\n",
            "Try using .loc[row_indexer,col_indexer] = value instead\n",
            "\n",
            "See the caveats in the documentation: http://pandas.pydata.org/pandas-docs/stable/indexing.html#indexing-view-versus-copy\n",
            "  from ipykernel import kernelapp as app\n"
          ],
          "name": "stderr"
        }
      ]
    },
    {
      "metadata": {
        "id": "DlhhNfxn3FWo",
        "colab_type": "code",
        "outputId": "4abdbf25-b592-408f-b458-16fd8adfd605",
        "colab": {
          "base_uri": "https://localhost:8080/",
          "height": 34
        }
      },
      "cell_type": "code",
      "source": [
        "X_train_numeric.shape, X_val_numeric.shape,X_test_numeric.shape"
      ],
      "execution_count": 282,
      "outputs": [
        {
          "output_type": "execute_result",
          "data": {
            "text/plain": [
              "((44550, 33), (14850, 33), (14358, 33))"
            ]
          },
          "metadata": {
            "tags": []
          },
          "execution_count": 282
        }
      ]
    },
    {
      "metadata": {
        "id": "2XYnit2-MCx8",
        "colab_type": "code",
        "colab": {
          "base_uri": "https://localhost:8080/",
          "height": 34
        },
        "outputId": "cd90cc2b-7914-462a-aac4-931421190b0a"
      },
      "cell_type": "code",
      "source": [
        "set(X_test_numeric.columns)-set(X_val_numeric.columns)"
      ],
      "execution_count": 16,
      "outputs": [
        {
          "output_type": "execute_result",
          "data": {
            "text/plain": [
              "set()"
            ]
          },
          "metadata": {
            "tags": []
          },
          "execution_count": 16
        }
      ]
    },
    {
      "metadata": {
        "id": "wCIQVbjJdGsZ",
        "colab_type": "code",
        "colab": {}
      },
      "cell_type": "code",
      "source": [
        "X_train_numeric.quality_group.value_counts()"
      ],
      "execution_count": 0,
      "outputs": []
    },
    {
      "metadata": {
        "id": "gD9QlUedop3p",
        "colab_type": "code",
        "colab": {}
      },
      "cell_type": "code",
      "source": [
        "X_train_numeric.isnull().sum()"
      ],
      "execution_count": 0,
      "outputs": []
    },
    {
      "metadata": {
        "id": "elO9b1NxmxzK",
        "colab_type": "code",
        "colab": {}
      },
      "cell_type": "code",
      "source": [
        "pipeline = make_pipeline(\n",
        "    ce.OneHotEncoder(use_cat_names=True),\n",
        "    StandardScaler(),\n",
        "    #LogisticRegression(solver='lbfgs',multi_class='multinomial',max_iter=10000)\n",
        "    #KNeighborsClassifier()\n",
        "    RandomForestClassifier()\n",
        ")\n"
      ],
      "execution_count": 0,
      "outputs": []
    },
    {
      "metadata": {
        "id": "NXMIyCSdPHPR",
        "colab_type": "code",
        "colab": {}
      },
      "cell_type": "code",
      "source": [
        "X_train_q=pd.get_dummies(X_train,columns=['quality_group'])"
      ],
      "execution_count": 0,
      "outputs": []
    },
    {
      "metadata": {
        "id": "fQJZAVrgQMkn",
        "colab_type": "code",
        "colab": {}
      },
      "cell_type": "code",
      "source": [
        "X_try=X_train_q[['quality_group_colored',\n",
        "       'quality_group_fluoride', 'quality_group_good', 'quality_group_milky',\n",
        "       'quality_group_salty', 'quality_group_unknown', 'y']]"
      ],
      "execution_count": 0,
      "outputs": []
    },
    {
      "metadata": {
        "id": "K7kcxcziRFsm",
        "colab_type": "code",
        "outputId": "76ea2369-b744-49f3-c561-52e71be38000",
        "colab": {
          "base_uri": "https://localhost:8080/",
          "height": 139
        }
      },
      "cell_type": "code",
      "source": [
        "X_try.y.value_counts()\n",
        "X_try.y=X_try.y.map(status_map)"
      ],
      "execution_count": 0,
      "outputs": [
        {
          "output_type": "stream",
          "text": [
            "/usr/local/lib/python3.6/dist-packages/pandas/core/generic.py:3643: SettingWithCopyWarning: \n",
            "A value is trying to be set on a copy of a slice from a DataFrame.\n",
            "Try using .loc[row_indexer,col_indexer] = value instead\n",
            "\n",
            "See the caveats in the documentation: http://pandas.pydata.org/pandas-docs/stable/indexing.html#indexing-view-versus-copy\n",
            "  self[name] = value\n"
          ],
          "name": "stderr"
        }
      ]
    },
    {
      "metadata": {
        "id": "MWk2b8xCRLZP",
        "colab_type": "code",
        "colab": {}
      },
      "cell_type": "code",
      "source": [
        "status_map={'non functional':0,'functional needs repair':1,'functional':2}"
      ],
      "execution_count": 0,
      "outputs": []
    },
    {
      "metadata": {
        "id": "2azMn1z6RkW0",
        "colab_type": "code",
        "colab": {}
      },
      "cell_type": "code",
      "source": [
        "y_train = y_train.replace(status_map)"
      ],
      "execution_count": 0,
      "outputs": []
    },
    {
      "metadata": {
        "id": "2FtsCcH5_DBc",
        "colab_type": "code",
        "colab": {}
      },
      "cell_type": "code",
      "source": [
        "y_train"
      ],
      "execution_count": 0,
      "outputs": []
    },
    {
      "metadata": {
        "id": "KTxXrTpnpNh_",
        "colab_type": "code",
        "outputId": "0c5c2a0d-cbd2-48f0-b738-43a36a0957c5",
        "colab": {
          "base_uri": "https://localhost:8080/",
          "height": 139
        }
      },
      "cell_type": "code",
      "source": [
        "m = pipeline.fit(X_train_numeric,y_train)"
      ],
      "execution_count": 286,
      "outputs": [
        {
          "output_type": "stream",
          "text": [
            "/usr/local/lib/python3.6/dist-packages/sklearn/preprocessing/data.py:645: DataConversionWarning: Data with input dtype int64, float64 were all converted to float64 by StandardScaler.\n",
            "  return self.partial_fit(X, y)\n",
            "/usr/local/lib/python3.6/dist-packages/sklearn/base.py:467: DataConversionWarning: Data with input dtype int64, float64 were all converted to float64 by StandardScaler.\n",
            "  return self.fit(X, y, **fit_params).transform(X)\n",
            "/usr/local/lib/python3.6/dist-packages/sklearn/ensemble/forest.py:246: FutureWarning: The default value of n_estimators will change from 10 in version 0.20 to 100 in 0.22.\n",
            "  \"10 in version 0.20 to 100 in 0.22.\", FutureWarning)\n"
          ],
          "name": "stderr"
        }
      ]
    },
    {
      "metadata": {
        "id": "fUmZVLNiyXZu",
        "colab_type": "code",
        "colab": {}
      },
      "cell_type": "code",
      "source": [
        "X_train.quality_group.value_counts()"
      ],
      "execution_count": 0,
      "outputs": []
    },
    {
      "metadata": {
        "id": "RyH0IkQZYuZ2",
        "colab_type": "code",
        "colab": {}
      },
      "cell_type": "code",
      "source": [
        "X_train_numeric.select_dtypes(exclude = np.number).nunique()"
      ],
      "execution_count": 0,
      "outputs": []
    },
    {
      "metadata": {
        "id": "y5Cv_DPuZjDh",
        "colab_type": "code",
        "colab": {}
      },
      "cell_type": "code",
      "source": [
        "X_train_numeric.extraction_type.value_counts()"
      ],
      "execution_count": 0,
      "outputs": []
    },
    {
      "metadata": {
        "id": "m21XvznTZxnx",
        "colab_type": "code",
        "colab": {}
      },
      "cell_type": "code",
      "source": [
        "  X_train_numeric.extraction_type_group.value_counts()"
      ],
      "execution_count": 0,
      "outputs": []
    },
    {
      "metadata": {
        "id": "DDXqs4GUaCTQ",
        "colab_type": "code",
        "colab": {}
      },
      "cell_type": "code",
      "source": [
        "  X_train_numeric.extraction_type_class.value_counts()"
      ],
      "execution_count": 0,
      "outputs": []
    },
    {
      "metadata": {
        "id": "0tnm5PGjvVJz",
        "colab_type": "text"
      },
      "cell_type": "markdown",
      "source": [
        "#Old Transform"
      ]
    },
    {
      "metadata": {
        "id": "Cdxq8e7RmoSW",
        "colab_type": "code",
        "colab": {}
      },
      "cell_type": "code",
      "source": [
        "def wrangle(X):\n",
        "  X = X.copy()\n",
        "  low_cardinality = ['basin','region',\n",
        "       'extraction_type_group', 'extraction_type_class', 'management',\n",
        "       'management_group', 'payment', 'payment_type', 'water_quality',\n",
        "       'quantity', 'source', 'source_type','quantity_group',\n",
        "       'source_class', 'waterpoint_type', 'waterpoint_type_group']\n",
        "  \n",
        "  X=pd.get_dummies(X,columns=low_cardinality)\n",
        "  quality_group_map = {'unknown':0,'salty':1,'milky':2,'colored':3,'fluoride':4,'good':5}\n",
        "  X['quality_group'] =  X['quality_group'].map(quality_group_map)\n",
        "  X['quality_group_square']=X['quality_group']**2\n",
        "  \n",
        "  X = X.select_dtypes(np.number)\n",
        "  \n",
        "  \n",
        "  return X\n",
        "\n",
        "def wrangle_OneCode(X):\n",
        "  X = X.copy()\n",
        "  low_cardinality = ['basin','region',\n",
        "       'extraction_type_group', 'extraction_type_class', 'management',\n",
        "       'management_group', 'payment', 'payment_type', 'water_quality',\n",
        "       'quantity', 'source', 'source_type','quantity_group',\n",
        "       'source_class', 'waterpoint_type', 'waterpoint_type_group']\n",
        "  \n",
        "  #install_less_than_300 =  X['installer'].value_counts()[X['installer'].value_counts()<300].index\n",
        "  #install_less_than_300= list(install_less_than_300)\n",
        "  #print(install_less_than_300)\n",
        "  X[X['installer'].isin(install_less_than_300)]['installer']='Other'\n",
        "  X['installer']=X['installer'].fillna('Other')\n",
        "  \n",
        "  #X.installer.value_counts()\n",
        "  \n",
        "  #X=pd.get_dummies(X,columns=low_cardinality)\n",
        "  quality_group_map = {'unknown':0,'salty':1,'milky':2,'colored':3,'fluoride':4,'good':5}\n",
        "  X['quality_group'] =  X['quality_group'].map(quality_group_map)\n",
        "  #X['quality_group_square']=X['quality_group']**2\n",
        "   \n",
        "  high_cardinality =['date_recorded','funder','wpt_name','subvillage','ward','scheme_name']\n",
        "  X=X.drop(high_cardinality, axis=1)\n",
        "  X=X.drop(['public_meeting','scheme_management','permit'], axis=1)\n",
        "  \n",
        "  subclass_feature=['extraction_type_class','extraction_type_group']\n",
        "  #X=X.drop(subclass_feature,axis=1)\n",
        "  \n",
        "  #X['construction_year'].replace({0:construction_year_mean})\n",
        "  #X['Age_square']=(2018-X['construction_year'])**2\n",
        "  #print(X.isnull().sum())\n",
        "  #print(X.columns)\n",
        "  return X\n"
      ],
      "execution_count": 0,
      "outputs": []
    },
    {
      "metadata": {
        "id": "JxpvgXGovmYh",
        "colab_type": "text"
      },
      "cell_type": "markdown",
      "source": [
        "# Fit and predict and val"
      ]
    },
    {
      "metadata": {
        "id": "-rnKjq3tvSNU",
        "colab_type": "code",
        "colab": {}
      },
      "cell_type": "code",
      "source": [
        ""
      ],
      "execution_count": 0,
      "outputs": []
    },
    {
      "metadata": {
        "id": "AVcOl_YZKxTf",
        "colab_type": "code",
        "colab": {}
      },
      "cell_type": "code",
      "source": [
        "X_train.quality_group.value_counts()"
      ],
      "execution_count": 0,
      "outputs": []
    },
    {
      "metadata": {
        "id": "CshEdSxl_r0M",
        "colab_type": "code",
        "colab": {}
      },
      "cell_type": "code",
      "source": [
        "list(X_train.select_dtypes(exclude=np.number).nunique()[X_train.select_dtypes(exclude=np.number).nunique()>100].index)"
      ],
      "execution_count": 0,
      "outputs": []
    },
    {
      "metadata": {
        "id": "ZTor8yvaR5LE",
        "colab_type": "code",
        "colab": {}
      },
      "cell_type": "code",
      "source": [
        "X_train['construction_year'].replace({0:X_train['construction_year'].mean()})"
      ],
      "execution_count": 0,
      "outputs": []
    },
    {
      "metadata": {
        "id": "K28DInibS0Iq",
        "colab_type": "code",
        "colab": {}
      },
      "cell_type": "code",
      "source": [
        "construction_year_mean = X_train[X_train['construction_year']!=0]['construction_year'].mean()"
      ],
      "execution_count": 0,
      "outputs": []
    },
    {
      "metadata": {
        "id": "HSCvWjmM6ApD",
        "colab_type": "code",
        "colab": {}
      },
      "cell_type": "code",
      "source": [
        "wrangle_OneCode(X_train).isnull().sum()"
      ],
      "execution_count": 0,
      "outputs": []
    },
    {
      "metadata": {
        "id": "T6B31kvoplbI",
        "colab_type": "code",
        "outputId": "35bdd78b-3872-4a9d-b634-d3dbfe46b4e8",
        "colab": {
          "base_uri": "https://localhost:8080/",
          "height": 71
        }
      },
      "cell_type": "code",
      "source": [
        "y_pred=m.predict(X_val_numeric)"
      ],
      "execution_count": 287,
      "outputs": [
        {
          "output_type": "stream",
          "text": [
            "/usr/local/lib/python3.6/dist-packages/sklearn/pipeline.py:331: DataConversionWarning: Data with input dtype int64, float64 were all converted to float64 by StandardScaler.\n",
            "  Xt = transform.transform(Xt)\n"
          ],
          "name": "stderr"
        }
      ]
    },
    {
      "metadata": {
        "id": "-r-vLnegX1o1",
        "colab_type": "code",
        "colab": {}
      },
      "cell_type": "code",
      "source": [
        "y_val=y_val.map(status_map)"
      ],
      "execution_count": 0,
      "outputs": []
    },
    {
      "metadata": {
        "id": "xQytjWwXwWJp",
        "colab_type": "code",
        "outputId": "6d5c0850-80fe-4609-8888-65ef3af01f6d",
        "colab": {
          "base_uri": "https://localhost:8080/",
          "height": 34
        }
      },
      "cell_type": "code",
      "source": [
        "y_pred"
      ],
      "execution_count": 271,
      "outputs": [
        {
          "output_type": "execute_result",
          "data": {
            "text/plain": [
              "array([2, 2, 0, ..., 1, 2, 2])"
            ]
          },
          "metadata": {
            "tags": []
          },
          "execution_count": 271
        }
      ]
    },
    {
      "metadata": {
        "id": "KwjAOeDSv6ay",
        "colab_type": "code",
        "colab": {}
      },
      "cell_type": "code",
      "source": [
        "y_val"
      ],
      "execution_count": 0,
      "outputs": []
    },
    {
      "metadata": {
        "id": "2cpNxEl9puGx",
        "colab_type": "code",
        "outputId": "01b6ca95-e49a-49b9-c92a-71d2953ad6b5",
        "colab": {
          "base_uri": "https://localhost:8080/",
          "height": 34
        }
      },
      "cell_type": "code",
      "source": [
        "accuracy_score(y_val,y_pred)"
      ],
      "execution_count": 289,
      "outputs": [
        {
          "output_type": "execute_result",
          "data": {
            "text/plain": [
              "0.7856565656565656"
            ]
          },
          "metadata": {
            "tags": []
          },
          "execution_count": 289
        }
      ]
    },
    {
      "metadata": {
        "id": "Mf9tZAk_p2bZ",
        "colab_type": "code",
        "outputId": "ed7906e4-d7ec-479f-9ba9-5b6cc683636c",
        "colab": {
          "base_uri": "https://localhost:8080/",
          "height": 85
        }
      },
      "cell_type": "code",
      "source": [
        "pd.Series(y_pred).value_counts()"
      ],
      "execution_count": 0,
      "outputs": [
        {
          "output_type": "execute_result",
          "data": {
            "text/plain": [
              "2    8233\n",
              "0    5522\n",
              "1     603\n",
              "dtype: int64"
            ]
          },
          "metadata": {
            "tags": []
          },
          "execution_count": 24
        }
      ]
    },
    {
      "metadata": {
        "id": "5k8PBHEZm8wu",
        "colab_type": "text"
      },
      "cell_type": "markdown",
      "source": [
        "#Testing"
      ]
    },
    {
      "metadata": {
        "id": "68V5j_5HYJGj",
        "colab_type": "code",
        "outputId": "cf3f91fc-c159-4f0b-852e-a0cd8ded1ed8",
        "colab": {
          "base_uri": "https://localhost:8080/",
          "height": 71
        }
      },
      "cell_type": "code",
      "source": [
        "y_pred=m.predict(X_test_numeric)"
      ],
      "execution_count": 290,
      "outputs": [
        {
          "output_type": "stream",
          "text": [
            "/usr/local/lib/python3.6/dist-packages/sklearn/pipeline.py:331: DataConversionWarning: Data with input dtype int64, float64 were all converted to float64 by StandardScaler.\n",
            "  Xt = transform.transform(Xt)\n"
          ],
          "name": "stderr"
        }
      ]
    },
    {
      "metadata": {
        "id": "O6O-EuB6YvaO",
        "colab_type": "code",
        "colab": {}
      },
      "cell_type": "code",
      "source": [
        "y_pred = pd.Series(y_pred)"
      ],
      "execution_count": 0,
      "outputs": []
    },
    {
      "metadata": {
        "id": "l9YEAihpY2iW",
        "colab_type": "code",
        "colab": {}
      },
      "cell_type": "code",
      "source": [
        "status_map_r = {0:'non functional',1:'functional needs repair',2:'functional'}"
      ],
      "execution_count": 0,
      "outputs": []
    },
    {
      "metadata": {
        "id": "UtsSXuQgZI5L",
        "colab_type": "code",
        "colab": {}
      },
      "cell_type": "code",
      "source": [
        "y_pred = y_pred.replace(status_map_r)"
      ],
      "execution_count": 0,
      "outputs": []
    },
    {
      "metadata": {
        "id": "5Gnzk2QKbcn4",
        "colab_type": "code",
        "outputId": "ebf90206-bd7a-473c-a7a6-25d128c01da9",
        "colab": {
          "base_uri": "https://localhost:8080/",
          "height": 85
        }
      },
      "cell_type": "code",
      "source": [
        "y_pred.value_counts()"
      ],
      "execution_count": 298,
      "outputs": [
        {
          "output_type": "execute_result",
          "data": {
            "text/plain": [
              "functional                 7899\n",
              "non functional             5668\n",
              "functional needs repair     791\n",
              "dtype: int64"
            ]
          },
          "metadata": {
            "tags": []
          },
          "execution_count": 298
        }
      ]
    },
    {
      "metadata": {
        "id": "18uYAHUddJAS",
        "colab_type": "code",
        "colab": {}
      },
      "cell_type": "code",
      "source": [
        "submission['status_group']=y_pred"
      ],
      "execution_count": 0,
      "outputs": []
    },
    {
      "metadata": {
        "id": "ZUfB5cOydqoy",
        "colab_type": "code",
        "colab": {}
      },
      "cell_type": "code",
      "source": [
        "from google.colab import files\n",
        "\n",
        "submission.to_csv('test_labels.csv',index=False)\n",
        "files.download('test_labels.csv')"
      ],
      "execution_count": 0,
      "outputs": []
    },
    {
      "metadata": {
        "id": "18EI_xg7hY1A",
        "colab_type": "text"
      },
      "cell_type": "markdown",
      "source": [
        ""
      ]
    }
  ]
}